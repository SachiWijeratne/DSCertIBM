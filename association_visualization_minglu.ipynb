{
 "cells": [
  {
   "cell_type": "code",
   "execution_count": 1,
   "id": "340e28a9",
   "metadata": {},
   "outputs": [],
   "source": [
    "import numpy as np\n",
    "import pandas as pd"
   ]
  },
  {
   "cell_type": "code",
   "execution_count": 2,
   "id": "7d48f820",
   "metadata": {},
   "outputs": [
    {
     "data": {
      "text/html": [
       "<div>\n",
       "<style scoped>\n",
       "    .dataframe tbody tr th:only-of-type {\n",
       "        vertical-align: middle;\n",
       "    }\n",
       "\n",
       "    .dataframe tbody tr th {\n",
       "        vertical-align: top;\n",
       "    }\n",
       "\n",
       "    .dataframe thead th {\n",
       "        text-align: right;\n",
       "    }\n",
       "</style>\n",
       "<table border=\"1\" class=\"dataframe\">\n",
       "  <thead>\n",
       "    <tr style=\"text-align: right;\">\n",
       "      <th></th>\n",
       "      <th>TransactionNo</th>\n",
       "      <th>Items</th>\n",
       "      <th>DateTime</th>\n",
       "      <th>Daypart</th>\n",
       "      <th>DayType</th>\n",
       "    </tr>\n",
       "  </thead>\n",
       "  <tbody>\n",
       "    <tr>\n",
       "      <th>0</th>\n",
       "      <td>1</td>\n",
       "      <td>Bread</td>\n",
       "      <td>2016-10-30 09:58:11</td>\n",
       "      <td>Morning</td>\n",
       "      <td>Weekend</td>\n",
       "    </tr>\n",
       "    <tr>\n",
       "      <th>1</th>\n",
       "      <td>2</td>\n",
       "      <td>Scandinavian</td>\n",
       "      <td>2016-10-30 10:05:34</td>\n",
       "      <td>Morning</td>\n",
       "      <td>Weekend</td>\n",
       "    </tr>\n",
       "    <tr>\n",
       "      <th>2</th>\n",
       "      <td>2</td>\n",
       "      <td>Scandinavian</td>\n",
       "      <td>2016-10-30 10:05:34</td>\n",
       "      <td>Morning</td>\n",
       "      <td>Weekend</td>\n",
       "    </tr>\n",
       "    <tr>\n",
       "      <th>3</th>\n",
       "      <td>3</td>\n",
       "      <td>Hot chocolate</td>\n",
       "      <td>2016-10-30 10:07:57</td>\n",
       "      <td>Morning</td>\n",
       "      <td>Weekend</td>\n",
       "    </tr>\n",
       "    <tr>\n",
       "      <th>4</th>\n",
       "      <td>3</td>\n",
       "      <td>Jam</td>\n",
       "      <td>2016-10-30 10:07:57</td>\n",
       "      <td>Morning</td>\n",
       "      <td>Weekend</td>\n",
       "    </tr>\n",
       "  </tbody>\n",
       "</table>\n",
       "</div>"
      ],
      "text/plain": [
       "   TransactionNo          Items             DateTime  Daypart  DayType\n",
       "0              1          Bread  2016-10-30 09:58:11  Morning  Weekend\n",
       "1              2   Scandinavian  2016-10-30 10:05:34  Morning  Weekend\n",
       "2              2   Scandinavian  2016-10-30 10:05:34  Morning  Weekend\n",
       "3              3  Hot chocolate  2016-10-30 10:07:57  Morning  Weekend\n",
       "4              3            Jam  2016-10-30 10:07:57  Morning  Weekend"
      ]
     },
     "execution_count": 2,
     "metadata": {},
     "output_type": "execute_result"
    }
   ],
   "source": [
    "df = pd.read_csv(\"C:\\\\Users\\\\sachi\\\\Downloads\\\\Data Science\\\\DS_Project_15_Market basket analysis for Bakery data\\Data\\Bakery.csv\")\n",
    "df.head()"
   ]
  },
  {
   "cell_type": "code",
   "execution_count": 3,
   "id": "a14357cb",
   "metadata": {},
   "outputs": [
    {
     "data": {
      "text/plain": [
       "TransactionNo    0\n",
       "Items            0\n",
       "DateTime         0\n",
       "Daypart          0\n",
       "DayType          0\n",
       "dtype: int64"
      ]
     },
     "execution_count": 3,
     "metadata": {},
     "output_type": "execute_result"
    }
   ],
   "source": [
    "df.isnull().sum()"
   ]
  },
  {
   "cell_type": "code",
   "execution_count": 4,
   "id": "fd3d112c",
   "metadata": {},
   "outputs": [],
   "source": [
    "df['DateTime'] = pd.to_datetime(df['DateTime'])"
   ]
  },
  {
   "cell_type": "code",
   "execution_count": 5,
   "id": "5778f1dd",
   "metadata": {},
   "outputs": [],
   "source": [
    "import datetime"
   ]
  },
  {
   "cell_type": "code",
   "execution_count": 6,
   "id": "9e073534",
   "metadata": {},
   "outputs": [
    {
     "data": {
      "text/html": [
       "<div>\n",
       "<style scoped>\n",
       "    .dataframe tbody tr th:only-of-type {\n",
       "        vertical-align: middle;\n",
       "    }\n",
       "\n",
       "    .dataframe tbody tr th {\n",
       "        vertical-align: top;\n",
       "    }\n",
       "\n",
       "    .dataframe thead th {\n",
       "        text-align: right;\n",
       "    }\n",
       "</style>\n",
       "<table border=\"1\" class=\"dataframe\">\n",
       "  <thead>\n",
       "    <tr style=\"text-align: right;\">\n",
       "      <th></th>\n",
       "      <th>TransactionNo</th>\n",
       "      <th>Items</th>\n",
       "      <th>DateTime</th>\n",
       "      <th>Daypart</th>\n",
       "      <th>DayType</th>\n",
       "      <th>year</th>\n",
       "    </tr>\n",
       "  </thead>\n",
       "  <tbody>\n",
       "    <tr>\n",
       "      <th>0</th>\n",
       "      <td>1</td>\n",
       "      <td>Bread</td>\n",
       "      <td>2016-10-30 09:58:11</td>\n",
       "      <td>Morning</td>\n",
       "      <td>Weekend</td>\n",
       "      <td>2016</td>\n",
       "    </tr>\n",
       "    <tr>\n",
       "      <th>1</th>\n",
       "      <td>2</td>\n",
       "      <td>Scandinavian</td>\n",
       "      <td>2016-10-30 10:05:34</td>\n",
       "      <td>Morning</td>\n",
       "      <td>Weekend</td>\n",
       "      <td>2016</td>\n",
       "    </tr>\n",
       "    <tr>\n",
       "      <th>2</th>\n",
       "      <td>2</td>\n",
       "      <td>Scandinavian</td>\n",
       "      <td>2016-10-30 10:05:34</td>\n",
       "      <td>Morning</td>\n",
       "      <td>Weekend</td>\n",
       "      <td>2016</td>\n",
       "    </tr>\n",
       "    <tr>\n",
       "      <th>3</th>\n",
       "      <td>3</td>\n",
       "      <td>Hot chocolate</td>\n",
       "      <td>2016-10-30 10:07:57</td>\n",
       "      <td>Morning</td>\n",
       "      <td>Weekend</td>\n",
       "      <td>2016</td>\n",
       "    </tr>\n",
       "    <tr>\n",
       "      <th>4</th>\n",
       "      <td>3</td>\n",
       "      <td>Jam</td>\n",
       "      <td>2016-10-30 10:07:57</td>\n",
       "      <td>Morning</td>\n",
       "      <td>Weekend</td>\n",
       "      <td>2016</td>\n",
       "    </tr>\n",
       "  </tbody>\n",
       "</table>\n",
       "</div>"
      ],
      "text/plain": [
       "   TransactionNo          Items            DateTime  Daypart  DayType  year\n",
       "0              1          Bread 2016-10-30 09:58:11  Morning  Weekend  2016\n",
       "1              2   Scandinavian 2016-10-30 10:05:34  Morning  Weekend  2016\n",
       "2              2   Scandinavian 2016-10-30 10:05:34  Morning  Weekend  2016\n",
       "3              3  Hot chocolate 2016-10-30 10:07:57  Morning  Weekend  2016\n",
       "4              3            Jam 2016-10-30 10:07:57  Morning  Weekend  2016"
      ]
     },
     "execution_count": 6,
     "metadata": {},
     "output_type": "execute_result"
    }
   ],
   "source": [
    "df['year'] = pd.DatetimeIndex(df['DateTime']).year\n",
    "df.head()"
   ]
  },
  {
   "cell_type": "code",
   "execution_count": 7,
   "id": "9c9d8605",
   "metadata": {},
   "outputs": [
    {
     "data": {
      "text/html": [
       "<div>\n",
       "<style scoped>\n",
       "    .dataframe tbody tr th:only-of-type {\n",
       "        vertical-align: middle;\n",
       "    }\n",
       "\n",
       "    .dataframe tbody tr th {\n",
       "        vertical-align: top;\n",
       "    }\n",
       "\n",
       "    .dataframe thead th {\n",
       "        text-align: right;\n",
       "    }\n",
       "</style>\n",
       "<table border=\"1\" class=\"dataframe\">\n",
       "  <thead>\n",
       "    <tr style=\"text-align: right;\">\n",
       "      <th></th>\n",
       "      <th>TransactionNo</th>\n",
       "      <th>Items</th>\n",
       "      <th>DateTime</th>\n",
       "      <th>Daypart</th>\n",
       "      <th>DayType</th>\n",
       "      <th>year</th>\n",
       "      <th>month</th>\n",
       "    </tr>\n",
       "  </thead>\n",
       "  <tbody>\n",
       "    <tr>\n",
       "      <th>0</th>\n",
       "      <td>1</td>\n",
       "      <td>Bread</td>\n",
       "      <td>2016-10-30 09:58:11</td>\n",
       "      <td>Morning</td>\n",
       "      <td>Weekend</td>\n",
       "      <td>2016</td>\n",
       "      <td>10</td>\n",
       "    </tr>\n",
       "    <tr>\n",
       "      <th>1</th>\n",
       "      <td>2</td>\n",
       "      <td>Scandinavian</td>\n",
       "      <td>2016-10-30 10:05:34</td>\n",
       "      <td>Morning</td>\n",
       "      <td>Weekend</td>\n",
       "      <td>2016</td>\n",
       "      <td>10</td>\n",
       "    </tr>\n",
       "    <tr>\n",
       "      <th>2</th>\n",
       "      <td>2</td>\n",
       "      <td>Scandinavian</td>\n",
       "      <td>2016-10-30 10:05:34</td>\n",
       "      <td>Morning</td>\n",
       "      <td>Weekend</td>\n",
       "      <td>2016</td>\n",
       "      <td>10</td>\n",
       "    </tr>\n",
       "    <tr>\n",
       "      <th>3</th>\n",
       "      <td>3</td>\n",
       "      <td>Hot chocolate</td>\n",
       "      <td>2016-10-30 10:07:57</td>\n",
       "      <td>Morning</td>\n",
       "      <td>Weekend</td>\n",
       "      <td>2016</td>\n",
       "      <td>10</td>\n",
       "    </tr>\n",
       "    <tr>\n",
       "      <th>4</th>\n",
       "      <td>3</td>\n",
       "      <td>Jam</td>\n",
       "      <td>2016-10-30 10:07:57</td>\n",
       "      <td>Morning</td>\n",
       "      <td>Weekend</td>\n",
       "      <td>2016</td>\n",
       "      <td>10</td>\n",
       "    </tr>\n",
       "  </tbody>\n",
       "</table>\n",
       "</div>"
      ],
      "text/plain": [
       "   TransactionNo          Items            DateTime  Daypart  DayType  year  \\\n",
       "0              1          Bread 2016-10-30 09:58:11  Morning  Weekend  2016   \n",
       "1              2   Scandinavian 2016-10-30 10:05:34  Morning  Weekend  2016   \n",
       "2              2   Scandinavian 2016-10-30 10:05:34  Morning  Weekend  2016   \n",
       "3              3  Hot chocolate 2016-10-30 10:07:57  Morning  Weekend  2016   \n",
       "4              3            Jam 2016-10-30 10:07:57  Morning  Weekend  2016   \n",
       "\n",
       "   month  \n",
       "0     10  \n",
       "1     10  \n",
       "2     10  \n",
       "3     10  \n",
       "4     10  "
      ]
     },
     "execution_count": 7,
     "metadata": {},
     "output_type": "execute_result"
    }
   ],
   "source": [
    "df['month'] = pd.DatetimeIndex(df['DateTime']).month\n",
    "df.head()"
   ]
  },
  {
   "cell_type": "code",
   "execution_count": 8,
   "id": "60fecc9c",
   "metadata": {},
   "outputs": [
    {
     "data": {
      "text/plain": [
       "2017    12363\n",
       "2016     8144\n",
       "Name: year, dtype: int64"
      ]
     },
     "execution_count": 8,
     "metadata": {},
     "output_type": "execute_result"
    }
   ],
   "source": [
    "df['year'].value_counts()"
   ]
  },
  {
   "cell_type": "code",
   "execution_count": 9,
   "id": "737a2339",
   "metadata": {},
   "outputs": [
    {
     "data": {
      "text/plain": [
       "Coffee           5471\n",
       "Bread            3325\n",
       "Tea              1435\n",
       "Cake             1025\n",
       "Pastry            856\n",
       "Sandwich          771\n",
       "Medialuna         616\n",
       "Hot chocolate     590\n",
       "Cookies           540\n",
       "Brownie           379\n",
       "Name: Items, dtype: int64"
      ]
     },
     "execution_count": 9,
     "metadata": {},
     "output_type": "execute_result"
    }
   ],
   "source": [
    "df['Items'].value_counts()[:10]"
   ]
  },
  {
   "cell_type": "code",
   "execution_count": 10,
   "id": "acc0cb14",
   "metadata": {},
   "outputs": [
    {
     "data": {
      "text/plain": [
       "month  Items                   \n",
       "1      Afternoon with the baker    10\n",
       "       Alfajores                   50\n",
       "       Art Tray                     4\n",
       "       Baguette                    28\n",
       "       Bakewell                    11\n",
       "                                   ..\n",
       "12     Tiffin                       3\n",
       "       Toast                       52\n",
       "       Truffles                    24\n",
       "       Vegan Feast                  1\n",
       "       Vegan mincepie              31\n",
       "Length: 628, dtype: int64"
      ]
     },
     "execution_count": 10,
     "metadata": {},
     "output_type": "execute_result"
    }
   ],
   "source": [
    "df.groupby(['month', 'Items']).size()"
   ]
  },
  {
   "cell_type": "code",
   "execution_count": 11,
   "id": "fed52ede",
   "metadata": {},
   "outputs": [
    {
     "data": {
      "text/plain": [
       "year\n",
       "2016     8144\n",
       "2017    12363\n",
       "dtype: int64"
      ]
     },
     "execution_count": 11,
     "metadata": {},
     "output_type": "execute_result"
    }
   ],
   "source": [
    "df.groupby(['year']).size()"
   ]
  },
  {
   "cell_type": "code",
   "execution_count": 12,
   "id": "f254d038",
   "metadata": {},
   "outputs": [
    {
     "data": {
      "text/html": [
       "<div>\n",
       "<style scoped>\n",
       "    .dataframe tbody tr th:only-of-type {\n",
       "        vertical-align: middle;\n",
       "    }\n",
       "\n",
       "    .dataframe tbody tr th {\n",
       "        vertical-align: top;\n",
       "    }\n",
       "\n",
       "    .dataframe thead th {\n",
       "        text-align: right;\n",
       "    }\n",
       "</style>\n",
       "<table border=\"1\" class=\"dataframe\">\n",
       "  <thead>\n",
       "    <tr style=\"text-align: right;\">\n",
       "      <th></th>\n",
       "      <th>TransactionNo</th>\n",
       "      <th>Items</th>\n",
       "      <th>DateTime</th>\n",
       "      <th>Daypart</th>\n",
       "      <th>DayType</th>\n",
       "      <th>year</th>\n",
       "      <th>month</th>\n",
       "      <th>hourcount</th>\n",
       "      <th>hour</th>\n",
       "    </tr>\n",
       "  </thead>\n",
       "  <tbody>\n",
       "    <tr>\n",
       "      <th>0</th>\n",
       "      <td>1</td>\n",
       "      <td>Bread</td>\n",
       "      <td>2016-10-30 09:58:11</td>\n",
       "      <td>Morning</td>\n",
       "      <td>Weekend</td>\n",
       "      <td>2016</td>\n",
       "      <td>10</td>\n",
       "      <td>1</td>\n",
       "      <td>9</td>\n",
       "    </tr>\n",
       "    <tr>\n",
       "      <th>1</th>\n",
       "      <td>2</td>\n",
       "      <td>Scandinavian</td>\n",
       "      <td>2016-10-30 10:05:34</td>\n",
       "      <td>Morning</td>\n",
       "      <td>Weekend</td>\n",
       "      <td>2016</td>\n",
       "      <td>10</td>\n",
       "      <td>1</td>\n",
       "      <td>10</td>\n",
       "    </tr>\n",
       "    <tr>\n",
       "      <th>2</th>\n",
       "      <td>2</td>\n",
       "      <td>Scandinavian</td>\n",
       "      <td>2016-10-30 10:05:34</td>\n",
       "      <td>Morning</td>\n",
       "      <td>Weekend</td>\n",
       "      <td>2016</td>\n",
       "      <td>10</td>\n",
       "      <td>1</td>\n",
       "      <td>10</td>\n",
       "    </tr>\n",
       "    <tr>\n",
       "      <th>3</th>\n",
       "      <td>3</td>\n",
       "      <td>Hot chocolate</td>\n",
       "      <td>2016-10-30 10:07:57</td>\n",
       "      <td>Morning</td>\n",
       "      <td>Weekend</td>\n",
       "      <td>2016</td>\n",
       "      <td>10</td>\n",
       "      <td>1</td>\n",
       "      <td>10</td>\n",
       "    </tr>\n",
       "    <tr>\n",
       "      <th>4</th>\n",
       "      <td>3</td>\n",
       "      <td>Jam</td>\n",
       "      <td>2016-10-30 10:07:57</td>\n",
       "      <td>Morning</td>\n",
       "      <td>Weekend</td>\n",
       "      <td>2016</td>\n",
       "      <td>10</td>\n",
       "      <td>1</td>\n",
       "      <td>10</td>\n",
       "    </tr>\n",
       "    <tr>\n",
       "      <th>...</th>\n",
       "      <td>...</td>\n",
       "      <td>...</td>\n",
       "      <td>...</td>\n",
       "      <td>...</td>\n",
       "      <td>...</td>\n",
       "      <td>...</td>\n",
       "      <td>...</td>\n",
       "      <td>...</td>\n",
       "      <td>...</td>\n",
       "    </tr>\n",
       "    <tr>\n",
       "      <th>20502</th>\n",
       "      <td>9682</td>\n",
       "      <td>Coffee</td>\n",
       "      <td>2017-09-04 14:32:58</td>\n",
       "      <td>Afternoon</td>\n",
       "      <td>Weekend</td>\n",
       "      <td>2017</td>\n",
       "      <td>9</td>\n",
       "      <td>1</td>\n",
       "      <td>14</td>\n",
       "    </tr>\n",
       "    <tr>\n",
       "      <th>20503</th>\n",
       "      <td>9682</td>\n",
       "      <td>Tea</td>\n",
       "      <td>2017-09-04 14:32:58</td>\n",
       "      <td>Afternoon</td>\n",
       "      <td>Weekend</td>\n",
       "      <td>2017</td>\n",
       "      <td>9</td>\n",
       "      <td>1</td>\n",
       "      <td>14</td>\n",
       "    </tr>\n",
       "    <tr>\n",
       "      <th>20504</th>\n",
       "      <td>9683</td>\n",
       "      <td>Coffee</td>\n",
       "      <td>2017-09-04 14:57:06</td>\n",
       "      <td>Afternoon</td>\n",
       "      <td>Weekend</td>\n",
       "      <td>2017</td>\n",
       "      <td>9</td>\n",
       "      <td>1</td>\n",
       "      <td>14</td>\n",
       "    </tr>\n",
       "    <tr>\n",
       "      <th>20505</th>\n",
       "      <td>9683</td>\n",
       "      <td>Pastry</td>\n",
       "      <td>2017-09-04 14:57:06</td>\n",
       "      <td>Afternoon</td>\n",
       "      <td>Weekend</td>\n",
       "      <td>2017</td>\n",
       "      <td>9</td>\n",
       "      <td>1</td>\n",
       "      <td>14</td>\n",
       "    </tr>\n",
       "    <tr>\n",
       "      <th>20506</th>\n",
       "      <td>9684</td>\n",
       "      <td>Smoothies</td>\n",
       "      <td>2017-09-04 15:04:24</td>\n",
       "      <td>Afternoon</td>\n",
       "      <td>Weekend</td>\n",
       "      <td>2017</td>\n",
       "      <td>9</td>\n",
       "      <td>1</td>\n",
       "      <td>15</td>\n",
       "    </tr>\n",
       "  </tbody>\n",
       "</table>\n",
       "<p>20507 rows × 9 columns</p>\n",
       "</div>"
      ],
      "text/plain": [
       "       TransactionNo          Items            DateTime    Daypart  DayType  \\\n",
       "0                  1          Bread 2016-10-30 09:58:11    Morning  Weekend   \n",
       "1                  2   Scandinavian 2016-10-30 10:05:34    Morning  Weekend   \n",
       "2                  2   Scandinavian 2016-10-30 10:05:34    Morning  Weekend   \n",
       "3                  3  Hot chocolate 2016-10-30 10:07:57    Morning  Weekend   \n",
       "4                  3            Jam 2016-10-30 10:07:57    Morning  Weekend   \n",
       "...              ...            ...                 ...        ...      ...   \n",
       "20502           9682         Coffee 2017-09-04 14:32:58  Afternoon  Weekend   \n",
       "20503           9682            Tea 2017-09-04 14:32:58  Afternoon  Weekend   \n",
       "20504           9683         Coffee 2017-09-04 14:57:06  Afternoon  Weekend   \n",
       "20505           9683         Pastry 2017-09-04 14:57:06  Afternoon  Weekend   \n",
       "20506           9684      Smoothies 2017-09-04 15:04:24  Afternoon  Weekend   \n",
       "\n",
       "       year  month  hourcount  hour  \n",
       "0      2016     10          1     9  \n",
       "1      2016     10          1    10  \n",
       "2      2016     10          1    10  \n",
       "3      2016     10          1    10  \n",
       "4      2016     10          1    10  \n",
       "...     ...    ...        ...   ...  \n",
       "20502  2017      9          1    14  \n",
       "20503  2017      9          1    14  \n",
       "20504  2017      9          1    14  \n",
       "20505  2017      9          1    14  \n",
       "20506  2017      9          1    15  \n",
       "\n",
       "[20507 rows x 9 columns]"
      ]
     },
     "execution_count": 12,
     "metadata": {},
     "output_type": "execute_result"
    }
   ],
   "source": [
    "df['hourcount'] = 1\n",
    "df['hour'] = df['DateTime'].map(lambda x:x.hour)\n",
    "df"
   ]
  },
  {
   "cell_type": "code",
   "execution_count": 13,
   "id": "e4b3e513",
   "metadata": {},
   "outputs": [
    {
     "data": {
      "text/plain": [
       "hour\n",
       "1        1\n",
       "7       24\n",
       "8      645\n",
       "9     1966\n",
       "10    2666\n",
       "11    3102\n",
       "12    2854\n",
       "13    2617\n",
       "14    2640\n",
       "15    2115\n",
       "16    1343\n",
       "17     368\n",
       "18      82\n",
       "19      48\n",
       "20      22\n",
       "21       3\n",
       "22       8\n",
       "23       3\n",
       "Name: hourcount, dtype: int64"
      ]
     },
     "execution_count": 13,
     "metadata": {},
     "output_type": "execute_result"
    }
   ],
   "source": [
    "group_hour=df.groupby(by='hour').count()['hourcount']\n",
    "group_hour"
   ]
  },
  {
   "cell_type": "code",
   "execution_count": 14,
   "id": "0694eaae",
   "metadata": {},
   "outputs": [
    {
     "data": {
      "text/plain": [
       "Text(0.5, 1.0, 'transaction filter by hour')"
      ]
     },
     "execution_count": 14,
     "metadata": {},
     "output_type": "execute_result"
    },
    {
     "data": {
      "image/png": "[encoded data removed]",
      "text/plain": [
       "<Figure size 432x288 with 1 Axes>"
      ]
     },
     "metadata": {
      "needs_background": "light"
     },
     "output_type": "display_data"
    }
   ],
   "source": [
    "import matplotlib.pyplot as plt\n",
    "group_hour.plot(kind='bar')\n",
    "plt.xlabel('hour')\n",
    "plt.ylabel('number of Transaction')\n",
    "plt.title('transaction filter by hour')"
   ]
  },
  {
   "cell_type": "code",
   "execution_count": 15,
   "id": "bd5b2180",
   "metadata": {},
   "outputs": [
    {
     "data": {
      "text/plain": [
       "Text(0.5, 1.0, 'transaction filter by day')"
      ]
     },
     "execution_count": 15,
     "metadata": {},
     "output_type": "execute_result"
    },
    {
     "data": {
      "image/png": "[encoded data removed]",
      "text/plain": [
       "<Figure size 432x288 with 1 Axes>"
      ]
     },
     "metadata": {
      "needs_background": "light"
     },
     "output_type": "display_data"
    }
   ],
   "source": [
    "df['daycount'] = 1\n",
    "df['day'] = df['DateTime'].map(lambda x:x.day)\n",
    "group_day=df.groupby(by='day').count()['daycount']\n",
    "group_day.plot(kind='bar')\n",
    "plt.xlabel('day')\n",
    "plt.ylabel('number of Transaction')\n",
    "plt.title('transaction filter by day')"
   ]
  },
  {
   "cell_type": "code",
   "execution_count": 16,
   "id": "4f70652b",
   "metadata": {},
   "outputs": [
    {
     "data": {
      "text/plain": [
       "Text(0.5, 1.0, 'transaction filter by weekday')"
      ]
     },
     "execution_count": 16,
     "metadata": {},
     "output_type": "execute_result"
    },
    {
     "data": {
      "image/png": "[encoded data removed]",
      "text/plain": [
       "<Figure size 432x288 with 1 Axes>"
      ]
     },
     "metadata": {
      "needs_background": "light"
     },
     "output_type": "display_data"
    }
   ],
   "source": [
    "df['weekcount']=1\n",
    "df['weekday']=df['DateTime'].map(lambda x:x.weekday())\n",
    "group_weekday = df.groupby(by='weekday').count()['weekcount']\n",
    "group_weekday.plot(kind='bar')\n",
    "plt.xlabel('weekday')\n",
    "plt.ylabel('number of Transaction')\n",
    "plt.title('transaction filter by weekday')\n",
    "#Wednesday has the fewest orders"
   ]
  },
  {
   "cell_type": "code",
   "execution_count": 17,
   "id": "19578445",
   "metadata": {},
   "outputs": [
    {
     "name": "stderr",
     "output_type": "stream",
     "text": [
      "C:\\Users\\sachi\\AppData\\Local\\Temp\\ipykernel_5160\\2006646385.py:4: FutureWarning: The series.append method is deprecated and will be removed from pandas in a future version. Use pandas.concat instead.\n",
      "  item_list_1 = top_items_1.append(pd.Series([other_items_1], index=[\"Others\"]))\n"
     ]
    },
    {
     "data": {
      "text/plain": [
       "Coffee           2214\n",
       "Bread            1390\n",
       "Tea               577\n",
       "Pastry            366\n",
       "Medialuna         362\n",
       "Cake              263\n",
       "Hot chocolate     261\n",
       "Sandwich          235\n",
       "Farm House        200\n",
       "Muffin            198\n",
       "Others           2078\n",
       "dtype: int64"
      ]
     },
     "execution_count": 17,
     "metadata": {},
     "output_type": "execute_result"
    }
   ],
   "source": [
    "df1 = df[df['year'] == 2016]\n",
    "top_items_1 = df1.Items.value_counts()[:10]\n",
    "other_items_1 = df1.Items.count() - top_items_1.sum()\n",
    "item_list_1 = top_items_1.append(pd.Series([other_items_1], index=[\"Others\"]))\n",
    "item_list_1"
   ]
  },
  {
   "cell_type": "code",
   "execution_count": 18,
   "id": "475af463",
   "metadata": {},
   "outputs": [
    {
     "name": "stderr",
     "output_type": "stream",
     "text": [
      "C:\\Users\\sachi\\AppData\\Local\\Temp\\ipykernel_5160\\2329828259.py:4: FutureWarning: The series.append method is deprecated and will be removed from pandas in a future version. Use pandas.concat instead.\n",
      "  item_list_2 = top_items_2.append(pd.Series([other_items_2], index=[\"Others\"]))\n"
     ]
    },
    {
     "data": {
      "text/plain": [
       "Coffee           3257\n",
       "Bread            1935\n",
       "Tea               858\n",
       "Cake              762\n",
       "Sandwich          536\n",
       "Pastry            490\n",
       "Cookies           374\n",
       "Hot chocolate     329\n",
       "Juice             259\n",
       "Scone             258\n",
       "Others           3305\n",
       "dtype: int64"
      ]
     },
     "execution_count": 18,
     "metadata": {},
     "output_type": "execute_result"
    }
   ],
   "source": [
    "df2 = df[df['year'] == 2017]\n",
    "top_items_2 = df2.Items.value_counts()[:10]\n",
    "other_items_2 = df2.Items.count() - top_items_2.sum()\n",
    "item_list_2 = top_items_2.append(pd.Series([other_items_2], index=[\"Others\"]))\n",
    "item_list_2"
   ]
  },
  {
   "cell_type": "code",
   "execution_count": 19,
   "id": "85eb0428",
   "metadata": {},
   "outputs": [
    {
     "data": {
      "text/html": [
       "        <script type=\"text/javascript\">\n",
       "        window.PlotlyConfig = {MathJaxConfig: 'local'};\n",
       "        if (window.MathJax) {MathJax.Hub.Config({SVG: {font: \"STIX-Web\"}});}\n",
       "        if (typeof require !== 'undefined') {\n",
       "        require.undef(\"plotly\");\n",
       "        requirejs.config({\n",
       "            paths: {\n",
       "                'plotly': ['https://cdn.plot.ly/plotly-2.9.0.min']\n",
       "            }\n",
       "        });\n",
       "        require(['plotly'], function(Plotly) {\n",
       "            window._Plotly = Plotly;\n",
       "        });\n",
       "        }\n",
       "        </script>\n",
       "        "
      ]
     },
     "metadata": {},
     "output_type": "display_data"
    },
    {
     "data": {
      "application/vnd.plotly.v1+json": {
       "config": {
        "linkText": "Export to plot.ly",
        "plotlyServerURL": "https://plot.ly",
        "showLink": false
       },
       "data": [
        {
         "domain": {
          "x": [
           0,
           0.5
          ]
         },
         "hoverinfo": "label+percent+name",
         "labels": [
          "Coffee",
          "Bread",
          "Tea",
          "Pastry",
          "Medialuna",
          "Cake",
          "Hot chocolate",
          "Sandwich",
          "Farm House",
          "Muffin",
          "Others"
         ],
         "name": "Top 10 Items",
         "type": "pie",
         "values": [
          2214,
          1390,
          577,
          366,
          362,
          263,
          261,
          235,
          200,
          198,
          2078
         ]
        }
       ],
       "layout": {
        "template": {
         "data": {
          "bar": [
           {
            "error_x": {
             "color": "#2a3f5f"
            },
            "error_y": {
             "color": "#2a3f5f"
            },
            "marker": {
             "line": {
              "color": "#E5ECF6",
              "width": 0.5
             },
             "pattern": {
              "fillmode": "overlay",
              "size": 10,
              "solidity": 0.2
             }
            },
            "type": "bar"
           }
          ],
          "barpolar": [
           {
            "marker": {
             "line": {
              "color": "#E5ECF6",
              "width": 0.5
             },
             "pattern": {
              "fillmode": "overlay",
              "size": 10,
              "solidity": 0.2
             }
            },
            "type": "barpolar"
           }
          ],
          "carpet": [
           {
            "aaxis": {
             "endlinecolor": "#2a3f5f",
             "gridcolor": "white",
             "linecolor": "white",
             "minorgridcolor": "white",
             "startlinecolor": "#2a3f5f"
            },
            "baxis": {
             "endlinecolor": "#2a3f5f",
             "gridcolor": "white",
             "linecolor": "white",
             "minorgridcolor": "white",
             "startlinecolor": "#2a3f5f"
            },
            "type": "carpet"
           }
          ],
          "choropleth": [
           {
            "colorbar": {
             "outlinewidth": 0,
             "ticks": ""
            },
            "type": "choropleth"
           }
          ],
          "contour": [
           {
            "colorbar": {
             "outlinewidth": 0,
             "ticks": ""
            },
            "colorscale": [
             [
              0,
              "#0d0887"
             ],
             [
              0.1111111111111111,
              "#46039f"
             ],
             [
              0.2222222222222222,
              "#7201a8"
             ],
             [
              0.3333333333333333,
              "#9c179e"
             ],
             [
              0.4444444444444444,
              "#bd3786"
             ],
             [
              0.5555555555555556,
              "#d8576b"
             ],
             [
              0.6666666666666666,
              "#ed7953"
             ],
             [
              0.7777777777777778,
              "#fb9f3a"
             ],
             [
              0.8888888888888888,
              "#fdca26"
             ],
             [
              1,
              "#f0f921"
             ]
            ],
            "type": "contour"
           }
          ],
          "contourcarpet": [
           {
            "colorbar": {
             "outlinewidth": 0,
             "ticks": ""
            },
            "type": "contourcarpet"
           }
          ],
          "heatmap": [
           {
            "colorbar": {
             "outlinewidth": 0,
             "ticks": ""
            },
            "colorscale": [
             [
              0,
              "#0d0887"
             ],
             [
              0.1111111111111111,
              "#46039f"
             ],
             [
              0.2222222222222222,
              "#7201a8"
             ],
             [
              0.3333333333333333,
              "#9c179e"
             ],
             [
              0.4444444444444444,
              "#bd3786"
             ],
             [
              0.5555555555555556,
              "#d8576b"
             ],
             [
              0.6666666666666666,
              "#ed7953"
             ],
             [
              0.7777777777777778,
              "#fb9f3a"
             ],
             [
              0.8888888888888888,
              "#fdca26"
             ],
             [
              1,
              "#f0f921"
             ]
            ],
            "type": "heatmap"
           }
          ],
          "heatmapgl": [
           {
            "colorbar": {
             "outlinewidth": 0,
             "ticks": ""
            },
            "colorscale": [
             [
              0,
              "#0d0887"
             ],
             [
              0.1111111111111111,
              "#46039f"
             ],
             [
              0.2222222222222222,
              "#7201a8"
             ],
             [
              0.3333333333333333,
              "#9c179e"
             ],
             [
              0.4444444444444444,
              "#bd3786"
             ],
             [
              0.5555555555555556,
              "#d8576b"
             ],
             [
              0.6666666666666666,
              "#ed7953"
             ],
             [
              0.7777777777777778,
              "#fb9f3a"
             ],
             [
              0.8888888888888888,
              "#fdca26"
             ],
             [
              1,
              "#f0f921"
             ]
            ],
            "type": "heatmapgl"
           }
          ],
          "histogram": [
           {
            "marker": {
             "pattern": {
              "fillmode": "overlay",
              "size": 10,
              "solidity": 0.2
             }
            },
            "type": "histogram"
           }
          ],
          "histogram2d": [
           {
            "colorbar": {
             "outlinewidth": 0,
             "ticks": ""
            },
            "colorscale": [
             [
              0,
              "#0d0887"
             ],
             [
              0.1111111111111111,
              "#46039f"
             ],
             [
              0.2222222222222222,
              "#7201a8"
             ],
             [
              0.3333333333333333,
              "#9c179e"
             ],
             [
              0.4444444444444444,
              "#bd3786"
             ],
             [
              0.5555555555555556,
              "#d8576b"
             ],
             [
              0.6666666666666666,
              "#ed7953"
             ],
             [
              0.7777777777777778,
              "#fb9f3a"
             ],
             [
              0.8888888888888888,
              "#fdca26"
             ],
             [
              1,
              "#f0f921"
             ]
            ],
            "type": "histogram2d"
           }
          ],
          "histogram2dcontour": [
           {
            "colorbar": {
             "outlinewidth": 0,
             "ticks": ""
            },
            "colorscale": [
             [
              0,
              "#0d0887"
             ],
             [
              0.1111111111111111,
              "#46039f"
             ],
             [
              0.2222222222222222,
              "#7201a8"
             ],
             [
              0.3333333333333333,
              "#9c179e"
             ],
             [
              0.4444444444444444,
              "#bd3786"
             ],
             [
              0.5555555555555556,
              "#d8576b"
             ],
             [
              0.6666666666666666,
              "#ed7953"
             ],
             [
              0.7777777777777778,
              "#fb9f3a"
             ],
             [
              0.8888888888888888,
              "#fdca26"
             ],
             [
              1,
              "#f0f921"
             ]
            ],
            "type": "histogram2dcontour"
           }
          ],
          "mesh3d": [
           {
            "colorbar": {
             "outlinewidth": 0,
             "ticks": ""
            },
            "type": "mesh3d"
           }
          ],
          "parcoords": [
           {
            "line": {
             "colorbar": {
              "outlinewidth": 0,
              "ticks": ""
             }
            },
            "type": "parcoords"
           }
          ],
          "pie": [
           {
            "automargin": true,
            "type": "pie"
           }
          ],
          "scatter": [
           {
            "marker": {
             "colorbar": {
              "outlinewidth": 0,
              "ticks": ""
             }
            },
            "type": "scatter"
           }
          ],
          "scatter3d": [
           {
            "line": {
             "colorbar": {
              "outlinewidth": 0,
              "ticks": ""
             }
            },
            "marker": {
             "colorbar": {
              "outlinewidth": 0,
              "ticks": ""
             }
            },
            "type": "scatter3d"
           }
          ],
          "scattercarpet": [
           {
            "marker": {
             "colorbar": {
              "outlinewidth": 0,
              "ticks": ""
             }
            },
            "type": "scattercarpet"
           }
          ],
          "scattergeo": [
           {
            "marker": {
             "colorbar": {
              "outlinewidth": 0,
              "ticks": ""
             }
            },
            "type": "scattergeo"
           }
          ],
          "scattergl": [
           {
            "marker": {
             "colorbar": {
              "outlinewidth": 0,
              "ticks": ""
             }
            },
            "type": "scattergl"
           }
          ],
          "scattermapbox": [
           {
            "marker": {
             "colorbar": {
              "outlinewidth": 0,
              "ticks": ""
             }
            },
            "type": "scattermapbox"
           }
          ],
          "scatterpolar": [
           {
            "marker": {
             "colorbar": {
              "outlinewidth": 0,
              "ticks": ""
             }
            },
            "type": "scatterpolar"
           }
          ],
          "scatterpolargl": [
           {
            "marker": {
             "colorbar": {
              "outlinewidth": 0,
              "ticks": ""
             }
            },
            "type": "scatterpolargl"
           }
          ],
          "scatterternary": [
           {
            "marker": {
             "colorbar": {
              "outlinewidth": 0,
              "ticks": ""
             }
            },
            "type": "scatterternary"
           }
          ],
          "surface": [
           {
            "colorbar": {
             "outlinewidth": 0,
             "ticks": ""
            },
            "colorscale": [
             [
              0,
              "#0d0887"
             ],
             [
              0.1111111111111111,
              "#46039f"
             ],
             [
              0.2222222222222222,
              "#7201a8"
             ],
             [
              0.3333333333333333,
              "#9c179e"
             ],
             [
              0.4444444444444444,
              "#bd3786"
             ],
             [
              0.5555555555555556,
              "#d8576b"
             ],
             [
              0.6666666666666666,
              "#ed7953"
             ],
             [
              0.7777777777777778,
              "#fb9f3a"
             ],
             [
              0.8888888888888888,
              "#fdca26"
             ],
             [
              1,
              "#f0f921"
             ]
            ],
            "type": "surface"
           }
          ],
          "table": [
           {
            "cells": {
             "fill": {
              "color": "#EBF0F8"
             },
             "line": {
              "color": "white"
             }
            },
            "header": {
             "fill": {
              "color": "#C8D4E3"
             },
             "line": {
              "color": "white"
             }
            },
            "type": "table"
           }
          ]
         },
         "layout": {
          "annotationdefaults": {
           "arrowcolor": "#2a3f5f",
           "arrowhead": 0,
           "arrowwidth": 1
          },
          "autotypenumbers": "strict",
          "coloraxis": {
           "colorbar": {
            "outlinewidth": 0,
            "ticks": ""
           }
          },
          "colorscale": {
           "diverging": [
            [
             0,
             "#8e0152"
            ],
            [
             0.1,
             "#c51b7d"
            ],
            [
             0.2,
             "#de77ae"
            ],
            [
             0.3,
             "#f1b6da"
            ],
            [
             0.4,
             "#fde0ef"
            ],
            [
             0.5,
             "#f7f7f7"
            ],
            [
             0.6,
             "#e6f5d0"
            ],
            [
             0.7,
             "#b8e186"
            ],
            [
             0.8,
             "#7fbc41"
            ],
            [
             0.9,
             "#4d9221"
            ],
            [
             1,
             "#276419"
            ]
           ],
           "sequential": [
            [
             0,
             "#0d0887"
            ],
            [
             0.1111111111111111,
             "#46039f"
            ],
            [
             0.2222222222222222,
             "#7201a8"
            ],
            [
             0.3333333333333333,
             "#9c179e"
            ],
            [
             0.4444444444444444,
             "#bd3786"
            ],
            [
             0.5555555555555556,
             "#d8576b"
            ],
            [
             0.6666666666666666,
             "#ed7953"
            ],
            [
             0.7777777777777778,
             "#fb9f3a"
            ],
            [
             0.8888888888888888,
             "#fdca26"
            ],
            [
             1,
             "#f0f921"
            ]
           ],
           "sequentialminus": [
            [
             0,
             "#0d0887"
            ],
            [
             0.1111111111111111,
             "#46039f"
            ],
            [
             0.2222222222222222,
             "#7201a8"
            ],
            [
             0.3333333333333333,
             "#9c179e"
            ],
            [
             0.4444444444444444,
             "#bd3786"
            ],
            [
             0.5555555555555556,
             "#d8576b"
            ],
            [
             0.6666666666666666,
             "#ed7953"
            ],
            [
             0.7777777777777778,
             "#fb9f3a"
            ],
            [
             0.8888888888888888,
             "#fdca26"
            ],
            [
             1,
             "#f0f921"
            ]
           ]
          },
          "colorway": [
           "#636efa",
           "#EF553B",
           "#00cc96",
           "#ab63fa",
           "#FFA15A",
           "#19d3f3",
           "#FF6692",
           "#B6E880",
           "#FF97FF",
           "#FECB52"
          ],
          "font": {
           "color": "#2a3f5f"
          },
          "geo": {
           "bgcolor": "white",
           "lakecolor": "white",
           "landcolor": "#E5ECF6",
           "showlakes": true,
           "showland": true,
           "subunitcolor": "white"
          },
          "hoverlabel": {
           "align": "left"
          },
          "hovermode": "closest",
          "mapbox": {
           "style": "light"
          },
          "paper_bgcolor": "white",
          "plot_bgcolor": "#E5ECF6",
          "polar": {
           "angularaxis": {
            "gridcolor": "white",
            "linecolor": "white",
            "ticks": ""
           },
           "bgcolor": "#E5ECF6",
           "radialaxis": {
            "gridcolor": "white",
            "linecolor": "white",
            "ticks": ""
           }
          },
          "scene": {
           "xaxis": {
            "backgroundcolor": "#E5ECF6",
            "gridcolor": "white",
            "gridwidth": 2,
            "linecolor": "white",
            "showbackground": true,
            "ticks": "",
            "zerolinecolor": "white"
           },
           "yaxis": {
            "backgroundcolor": "#E5ECF6",
            "gridcolor": "white",
            "gridwidth": 2,
            "linecolor": "white",
            "showbackground": true,
            "ticks": "",
            "zerolinecolor": "white"
           },
           "zaxis": {
            "backgroundcolor": "#E5ECF6",
            "gridcolor": "white",
            "gridwidth": 2,
            "linecolor": "white",
            "showbackground": true,
            "ticks": "",
            "zerolinecolor": "white"
           }
          },
          "shapedefaults": {
           "line": {
            "color": "#2a3f5f"
           }
          },
          "ternary": {
           "aaxis": {
            "gridcolor": "white",
            "linecolor": "white",
            "ticks": ""
           },
           "baxis": {
            "gridcolor": "white",
            "linecolor": "white",
            "ticks": ""
           },
           "bgcolor": "#E5ECF6",
           "caxis": {
            "gridcolor": "white",
            "linecolor": "white",
            "ticks": ""
           }
          },
          "title": {
           "x": 0.05
          },
          "xaxis": {
           "automargin": true,
           "gridcolor": "white",
           "linecolor": "white",
           "ticks": "",
           "title": {
            "standoff": 15
           },
           "zerolinecolor": "white",
           "zerolinewidth": 2
          },
          "yaxis": {
           "automargin": true,
           "gridcolor": "white",
           "linecolor": "white",
           "ticks": "",
           "title": {
            "standoff": 15
           },
           "zerolinecolor": "white",
           "zerolinewidth": 2
          }
         }
        },
        "title": {
         "text": "Top 10 Most Popular Items"
        }
       }
      },
      "text/html": [
       "<div>                            <div id=\"80368637-b791-4563-a526-8f4bbf7ec580\" class=\"plotly-graph-div\" style=\"height:525px; width:100%;\"></div>            <script type=\"text/javascript\">                require([\"plotly\"], function(Plotly) {                    window.PLOTLYENV=window.PLOTLYENV || {};                                    if (document.getElementById(\"80368637-b791-4563-a526-8f4bbf7ec580\")) {                    Plotly.newPlot(                        \"80368637-b791-4563-a526-8f4bbf7ec580\",                        [{\"domain\":{\"x\":[0,0.5]},\"hoverinfo\":\"label+percent+name\",\"labels\":[\"Coffee\",\"Bread\",\"Tea\",\"Pastry\",\"Medialuna\",\"Cake\",\"Hot chocolate\",\"Sandwich\",\"Farm House\",\"Muffin\",\"Others\"],\"name\":\"Top 10 Items\",\"values\":[2214,1390,577,366,362,263,261,235,200,198,2078],\"type\":\"pie\"}],                        {\"template\":{\"data\":{\"barpolar\":[{\"marker\":{\"line\":{\"color\":\"#E5ECF6\",\"width\":0.5},\"pattern\":{\"fillmode\":\"overlay\",\"size\":10,\"solidity\":0.2}},\"type\":\"barpolar\"}],\"bar\":[{\"error_x\":{\"color\":\"#2a3f5f\"},\"error_y\":{\"color\":\"#2a3f5f\"},\"marker\":{\"line\":{\"color\":\"#E5ECF6\",\"width\":0.5},\"pattern\":{\"fillmode\":\"overlay\",\"size\":10,\"solidity\":0.2}},\"type\":\"bar\"}],\"carpet\":[{\"aaxis\":{\"endlinecolor\":\"#2a3f5f\",\"gridcolor\":\"white\",\"linecolor\":\"white\",\"minorgridcolor\":\"white\",\"startlinecolor\":\"#2a3f5f\"},\"baxis\":{\"endlinecolor\":\"#2a3f5f\",\"gridcolor\":\"white\",\"linecolor\":\"white\",\"minorgridcolor\":\"white\",\"startlinecolor\":\"#2a3f5f\"},\"type\":\"carpet\"}],\"choropleth\":[{\"colorbar\":{\"outlinewidth\":0,\"ticks\":\"\"},\"type\":\"choropleth\"}],\"contourcarpet\":[{\"colorbar\":{\"outlinewidth\":0,\"ticks\":\"\"},\"type\":\"contourcarpet\"}],\"contour\":[{\"colorbar\":{\"outlinewidth\":0,\"ticks\":\"\"},\"colorscale\":[[0.0,\"#0d0887\"],[0.1111111111111111,\"#46039f\"],[0.2222222222222222,\"#7201a8\"],[0.3333333333333333,\"#9c179e\"],[0.4444444444444444,\"#bd3786\"],[0.5555555555555556,\"#d8576b\"],[0.6666666666666666,\"#ed7953\"],[0.7777777777777778,\"#fb9f3a\"],[0.8888888888888888,\"#fdca26\"],[1.0,\"#f0f921\"]],\"type\":\"contour\"}],\"heatmapgl\":[{\"colorbar\":{\"outlinewidth\":0,\"ticks\":\"\"},\"colorscale\":[[0.0,\"#0d0887\"],[0.1111111111111111,\"#46039f\"],[0.2222222222222222,\"#7201a8\"],[0.3333333333333333,\"#9c179e\"],[0.4444444444444444,\"#bd3786\"],[0.5555555555555556,\"#d8576b\"],[0.6666666666666666,\"#ed7953\"],[0.7777777777777778,\"#fb9f3a\"],[0.8888888888888888,\"#fdca26\"],[1.0,\"#f0f921\"]],\"type\":\"heatmapgl\"}],\"heatmap\":[{\"colorbar\":{\"outlinewidth\":0,\"ticks\":\"\"},\"colorscale\":[[0.0,\"#0d0887\"],[0.1111111111111111,\"#46039f\"],[0.2222222222222222,\"#7201a8\"],[0.3333333333333333,\"#9c179e\"],[0.4444444444444444,\"#bd3786\"],[0.5555555555555556,\"#d8576b\"],[0.6666666666666666,\"#ed7953\"],[0.7777777777777778,\"#fb9f3a\"],[0.8888888888888888,\"#fdca26\"],[1.0,\"#f0f921\"]],\"type\":\"heatmap\"}],\"histogram2dcontour\":[{\"colorbar\":{\"outlinewidth\":0,\"ticks\":\"\"},\"colorscale\":[[0.0,\"#0d0887\"],[0.1111111111111111,\"#46039f\"],[0.2222222222222222,\"#7201a8\"],[0.3333333333333333,\"#9c179e\"],[0.4444444444444444,\"#bd3786\"],[0.5555555555555556,\"#d8576b\"],[0.6666666666666666,\"#ed7953\"],[0.7777777777777778,\"#fb9f3a\"],[0.8888888888888888,\"#fdca26\"],[1.0,\"#f0f921\"]],\"type\":\"histogram2dcontour\"}],\"histogram2d\":[{\"colorbar\":{\"outlinewidth\":0,\"ticks\":\"\"},\"colorscale\":[[0.0,\"#0d0887\"],[0.1111111111111111,\"#46039f\"],[0.2222222222222222,\"#7201a8\"],[0.3333333333333333,\"#9c179e\"],[0.4444444444444444,\"#bd3786\"],[0.5555555555555556,\"#d8576b\"],[0.6666666666666666,\"#ed7953\"],[0.7777777777777778,\"#fb9f3a\"],[0.8888888888888888,\"#fdca26\"],[1.0,\"#f0f921\"]],\"type\":\"histogram2d\"}],\"histogram\":[{\"marker\":{\"pattern\":{\"fillmode\":\"overlay\",\"size\":10,\"solidity\":0.2}},\"type\":\"histogram\"}],\"mesh3d\":[{\"colorbar\":{\"outlinewidth\":0,\"ticks\":\"\"},\"type\":\"mesh3d\"}],\"parcoords\":[{\"line\":{\"colorbar\":{\"outlinewidth\":0,\"ticks\":\"\"}},\"type\":\"parcoords\"}],\"pie\":[{\"automargin\":true,\"type\":\"pie\"}],\"scatter3d\":[{\"line\":{\"colorbar\":{\"outlinewidth\":0,\"ticks\":\"\"}},\"marker\":{\"colorbar\":{\"outlinewidth\":0,\"ticks\":\"\"}},\"type\":\"scatter3d\"}],\"scattercarpet\":[{\"marker\":{\"colorbar\":{\"outlinewidth\":0,\"ticks\":\"\"}},\"type\":\"scattercarpet\"}],\"scattergeo\":[{\"marker\":{\"colorbar\":{\"outlinewidth\":0,\"ticks\":\"\"}},\"type\":\"scattergeo\"}],\"scattergl\":[{\"marker\":{\"colorbar\":{\"outlinewidth\":0,\"ticks\":\"\"}},\"type\":\"scattergl\"}],\"scattermapbox\":[{\"marker\":{\"colorbar\":{\"outlinewidth\":0,\"ticks\":\"\"}},\"type\":\"scattermapbox\"}],\"scatterpolargl\":[{\"marker\":{\"colorbar\":{\"outlinewidth\":0,\"ticks\":\"\"}},\"type\":\"scatterpolargl\"}],\"scatterpolar\":[{\"marker\":{\"colorbar\":{\"outlinewidth\":0,\"ticks\":\"\"}},\"type\":\"scatterpolar\"}],\"scatter\":[{\"marker\":{\"colorbar\":{\"outlinewidth\":0,\"ticks\":\"\"}},\"type\":\"scatter\"}],\"scatterternary\":[{\"marker\":{\"colorbar\":{\"outlinewidth\":0,\"ticks\":\"\"}},\"type\":\"scatterternary\"}],\"surface\":[{\"colorbar\":{\"outlinewidth\":0,\"ticks\":\"\"},\"colorscale\":[[0.0,\"#0d0887\"],[0.1111111111111111,\"#46039f\"],[0.2222222222222222,\"#7201a8\"],[0.3333333333333333,\"#9c179e\"],[0.4444444444444444,\"#bd3786\"],[0.5555555555555556,\"#d8576b\"],[0.6666666666666666,\"#ed7953\"],[0.7777777777777778,\"#fb9f3a\"],[0.8888888888888888,\"#fdca26\"],[1.0,\"#f0f921\"]],\"type\":\"surface\"}],\"table\":[{\"cells\":{\"fill\":{\"color\":\"#EBF0F8\"},\"line\":{\"color\":\"white\"}},\"header\":{\"fill\":{\"color\":\"#C8D4E3\"},\"line\":{\"color\":\"white\"}},\"type\":\"table\"}]},\"layout\":{\"annotationdefaults\":{\"arrowcolor\":\"#2a3f5f\",\"arrowhead\":0,\"arrowwidth\":1},\"autotypenumbers\":\"strict\",\"coloraxis\":{\"colorbar\":{\"outlinewidth\":0,\"ticks\":\"\"}},\"colorscale\":{\"diverging\":[[0,\"#8e0152\"],[0.1,\"#c51b7d\"],[0.2,\"#de77ae\"],[0.3,\"#f1b6da\"],[0.4,\"#fde0ef\"],[0.5,\"#f7f7f7\"],[0.6,\"#e6f5d0\"],[0.7,\"#b8e186\"],[0.8,\"#7fbc41\"],[0.9,\"#4d9221\"],[1,\"#276419\"]],\"sequential\":[[0.0,\"#0d0887\"],[0.1111111111111111,\"#46039f\"],[0.2222222222222222,\"#7201a8\"],[0.3333333333333333,\"#9c179e\"],[0.4444444444444444,\"#bd3786\"],[0.5555555555555556,\"#d8576b\"],[0.6666666666666666,\"#ed7953\"],[0.7777777777777778,\"#fb9f3a\"],[0.8888888888888888,\"#fdca26\"],[1.0,\"#f0f921\"]],\"sequentialminus\":[[0.0,\"#0d0887\"],[0.1111111111111111,\"#46039f\"],[0.2222222222222222,\"#7201a8\"],[0.3333333333333333,\"#9c179e\"],[0.4444444444444444,\"#bd3786\"],[0.5555555555555556,\"#d8576b\"],[0.6666666666666666,\"#ed7953\"],[0.7777777777777778,\"#fb9f3a\"],[0.8888888888888888,\"#fdca26\"],[1.0,\"#f0f921\"]]},\"colorway\":[\"#636efa\",\"#EF553B\",\"#00cc96\",\"#ab63fa\",\"#FFA15A\",\"#19d3f3\",\"#FF6692\",\"#B6E880\",\"#FF97FF\",\"#FECB52\"],\"font\":{\"color\":\"#2a3f5f\"},\"geo\":{\"bgcolor\":\"white\",\"lakecolor\":\"white\",\"landcolor\":\"#E5ECF6\",\"showlakes\":true,\"showland\":true,\"subunitcolor\":\"white\"},\"hoverlabel\":{\"align\":\"left\"},\"hovermode\":\"closest\",\"mapbox\":{\"style\":\"light\"},\"paper_bgcolor\":\"white\",\"plot_bgcolor\":\"#E5ECF6\",\"polar\":{\"angularaxis\":{\"gridcolor\":\"white\",\"linecolor\":\"white\",\"ticks\":\"\"},\"bgcolor\":\"#E5ECF6\",\"radialaxis\":{\"gridcolor\":\"white\",\"linecolor\":\"white\",\"ticks\":\"\"}},\"scene\":{\"xaxis\":{\"backgroundcolor\":\"#E5ECF6\",\"gridcolor\":\"white\",\"gridwidth\":2,\"linecolor\":\"white\",\"showbackground\":true,\"ticks\":\"\",\"zerolinecolor\":\"white\"},\"yaxis\":{\"backgroundcolor\":\"#E5ECF6\",\"gridcolor\":\"white\",\"gridwidth\":2,\"linecolor\":\"white\",\"showbackground\":true,\"ticks\":\"\",\"zerolinecolor\":\"white\"},\"zaxis\":{\"backgroundcolor\":\"#E5ECF6\",\"gridcolor\":\"white\",\"gridwidth\":2,\"linecolor\":\"white\",\"showbackground\":true,\"ticks\":\"\",\"zerolinecolor\":\"white\"}},\"shapedefaults\":{\"line\":{\"color\":\"#2a3f5f\"}},\"ternary\":{\"aaxis\":{\"gridcolor\":\"white\",\"linecolor\":\"white\",\"ticks\":\"\"},\"baxis\":{\"gridcolor\":\"white\",\"linecolor\":\"white\",\"ticks\":\"\"},\"bgcolor\":\"#E5ECF6\",\"caxis\":{\"gridcolor\":\"white\",\"linecolor\":\"white\",\"ticks\":\"\"}},\"title\":{\"x\":0.05},\"xaxis\":{\"automargin\":true,\"gridcolor\":\"white\",\"linecolor\":\"white\",\"ticks\":\"\",\"title\":{\"standoff\":15},\"zerolinecolor\":\"white\",\"zerolinewidth\":2},\"yaxis\":{\"automargin\":true,\"gridcolor\":\"white\",\"linecolor\":\"white\",\"ticks\":\"\",\"title\":{\"standoff\":15},\"zerolinecolor\":\"white\",\"zerolinewidth\":2}}},\"title\":{\"text\":\"Top 10 Most Popular Items\"}},                        {\"responsive\": true}                    ).then(function(){\n",
       "                            \n",
       "var gd = document.getElementById('80368637-b791-4563-a526-8f4bbf7ec580');\n",
       "var x = new MutationObserver(function (mutations, observer) {{\n",
       "        var display = window.getComputedStyle(gd).display;\n",
       "        if (!display || display === 'none') {{\n",
       "            console.log([gd, 'removed!']);\n",
       "            Plotly.purge(gd);\n",
       "            observer.disconnect();\n",
       "        }}\n",
       "}});\n",
       "\n",
       "// Listen for the removal of the full notebook cells\n",
       "var notebookContainer = gd.closest('#notebook-container');\n",
       "if (notebookContainer) {{\n",
       "    x.observe(notebookContainer, {childList: true});\n",
       "}}\n",
       "\n",
       "// Listen for the clearing of the current output cell\n",
       "var outputEl = gd.closest('.output');\n",
       "if (outputEl) {{\n",
       "    x.observe(outputEl, {childList: true});\n",
       "}}\n",
       "\n",
       "                        })                };                });            </script>        </div>"
      ]
     },
     "metadata": {},
     "output_type": "display_data"
    }
   ],
   "source": [
    "from plotly.offline import download_plotlyjs, init_notebook_mode, plot, iplot\n",
    "import plotly\n",
    "\n",
    "plotly.offline.init_notebook_mode(connected=True)\n",
    "values_1 = item_list_1.tolist()\n",
    "labels_1 = item_list_1.index.values.tolist()\n",
    "fig = {\n",
    "  \"data\": [\n",
    "    {\n",
    "      \"values\": values_1,\n",
    "      \"labels\": labels_1,\n",
    "      \"domain\": {\"x\": [0, .5]},\n",
    "      \"name\": \"Top 10 Items\",\n",
    "      \"hoverinfo\":\"label+percent+name\",\n",
    "      \"type\": \"pie\"\n",
    "    },],\n",
    "  \"layout\": {\n",
    "        \"title\":\"Top 10 Most Popular Items\",\n",
    "    }\n",
    "}\n",
    "iplot(fig)\n"
   ]
  },
  {
   "cell_type": "code",
   "execution_count": 20,
   "id": "b1cc64b6",
   "metadata": {},
   "outputs": [
    {
     "data": {
      "text/html": [
       "        <script type=\"text/javascript\">\n",
       "        window.PlotlyConfig = {MathJaxConfig: 'local'};\n",
       "        if (window.MathJax) {MathJax.Hub.Config({SVG: {font: \"STIX-Web\"}});}\n",
       "        if (typeof require !== 'undefined') {\n",
       "        require.undef(\"plotly\");\n",
       "        requirejs.config({\n",
       "            paths: {\n",
       "                'plotly': ['https://cdn.plot.ly/plotly-2.9.0.min']\n",
       "            }\n",
       "        });\n",
       "        require(['plotly'], function(Plotly) {\n",
       "            window._Plotly = Plotly;\n",
       "        });\n",
       "        }\n",
       "        </script>\n",
       "        "
      ]
     },
     "metadata": {},
     "output_type": "display_data"
    },
    {
     "data": {
      "application/vnd.plotly.v1+json": {
       "config": {
        "linkText": "Export to plot.ly",
        "plotlyServerURL": "https://plot.ly",
        "showLink": false
       },
       "data": [
        {
         "domain": {
          "x": [
           0,
           0.5
          ]
         },
         "hoverinfo": "label+percent+name",
         "labels": [
          "Coffee",
          "Bread",
          "Tea",
          "Cake",
          "Sandwich",
          "Pastry",
          "Cookies",
          "Hot chocolate",
          "Juice",
          "Scone",
          "Others"
         ],
         "name": "Top 10 Items",
         "type": "pie",
         "values": [
          3257,
          1935,
          858,
          762,
          536,
          490,
          374,
          329,
          259,
          258,
          3305
         ]
        }
       ],
       "layout": {
        "template": {
         "data": {
          "bar": [
           {
            "error_x": {
             "color": "#2a3f5f"
            },
            "error_y": {
             "color": "#2a3f5f"
            },
            "marker": {
             "line": {
              "color": "#E5ECF6",
              "width": 0.5
             },
             "pattern": {
              "fillmode": "overlay",
              "size": 10,
              "solidity": 0.2
             }
            },
            "type": "bar"
           }
          ],
          "barpolar": [
           {
            "marker": {
             "line": {
              "color": "#E5ECF6",
              "width": 0.5
             },
             "pattern": {
              "fillmode": "overlay",
              "size": 10,
              "solidity": 0.2
             }
            },
            "type": "barpolar"
           }
          ],
          "carpet": [
           {
            "aaxis": {
             "endlinecolor": "#2a3f5f",
             "gridcolor": "white",
             "linecolor": "white",
             "minorgridcolor": "white",
             "startlinecolor": "#2a3f5f"
            },
            "baxis": {
             "endlinecolor": "#2a3f5f",
             "gridcolor": "white",
             "linecolor": "white",
             "minorgridcolor": "white",
             "startlinecolor": "#2a3f5f"
            },
            "type": "carpet"
           }
          ],
          "choropleth": [
           {
            "colorbar": {
             "outlinewidth": 0,
             "ticks": ""
            },
            "type": "choropleth"
           }
          ],
          "contour": [
           {
            "colorbar": {
             "outlinewidth": 0,
             "ticks": ""
            },
            "colorscale": [
             [
              0,
              "#0d0887"
             ],
             [
              0.1111111111111111,
              "#46039f"
             ],
             [
              0.2222222222222222,
              "#7201a8"
             ],
             [
              0.3333333333333333,
              "#9c179e"
             ],
             [
              0.4444444444444444,
              "#bd3786"
             ],
             [
              0.5555555555555556,
              "#d8576b"
             ],
             [
              0.6666666666666666,
              "#ed7953"
             ],
             [
              0.7777777777777778,
              "#fb9f3a"
             ],
             [
              0.8888888888888888,
              "#fdca26"
             ],
             [
              1,
              "#f0f921"
             ]
            ],
            "type": "contour"
           }
          ],
          "contourcarpet": [
           {
            "colorbar": {
             "outlinewidth": 0,
             "ticks": ""
            },
            "type": "contourcarpet"
           }
          ],
          "heatmap": [
           {
            "colorbar": {
             "outlinewidth": 0,
             "ticks": ""
            },
            "colorscale": [
             [
              0,
              "#0d0887"
             ],
             [
              0.1111111111111111,
              "#46039f"
             ],
             [
              0.2222222222222222,
              "#7201a8"
             ],
             [
              0.3333333333333333,
              "#9c179e"
             ],
             [
              0.4444444444444444,
              "#bd3786"
             ],
             [
              0.5555555555555556,
              "#d8576b"
             ],
             [
              0.6666666666666666,
              "#ed7953"
             ],
             [
              0.7777777777777778,
              "#fb9f3a"
             ],
             [
              0.8888888888888888,
              "#fdca26"
             ],
             [
              1,
              "#f0f921"
             ]
            ],
            "type": "heatmap"
           }
          ],
          "heatmapgl": [
           {
            "colorbar": {
             "outlinewidth": 0,
             "ticks": ""
            },
            "colorscale": [
             [
              0,
              "#0d0887"
             ],
             [
              0.1111111111111111,
              "#46039f"
             ],
             [
              0.2222222222222222,
              "#7201a8"
             ],
             [
              0.3333333333333333,
              "#9c179e"
             ],
             [
              0.4444444444444444,
              "#bd3786"
             ],
             [
              0.5555555555555556,
              "#d8576b"
             ],
             [
              0.6666666666666666,
              "#ed7953"
             ],
             [
              0.7777777777777778,
              "#fb9f3a"
             ],
             [
              0.8888888888888888,
              "#fdca26"
             ],
             [
              1,
              "#f0f921"
             ]
            ],
            "type": "heatmapgl"
           }
          ],
          "histogram": [
           {
            "marker": {
             "pattern": {
              "fillmode": "overlay",
              "size": 10,
              "solidity": 0.2
             }
            },
            "type": "histogram"
           }
          ],
          "histogram2d": [
           {
            "colorbar": {
             "outlinewidth": 0,
             "ticks": ""
            },
            "colorscale": [
             [
              0,
              "#0d0887"
             ],
             [
              0.1111111111111111,
              "#46039f"
             ],
             [
              0.2222222222222222,
              "#7201a8"
             ],
             [
              0.3333333333333333,
              "#9c179e"
             ],
             [
              0.4444444444444444,
              "#bd3786"
             ],
             [
              0.5555555555555556,
              "#d8576b"
             ],
             [
              0.6666666666666666,
              "#ed7953"
             ],
             [
              0.7777777777777778,
              "#fb9f3a"
             ],
             [
              0.8888888888888888,
              "#fdca26"
             ],
             [
              1,
              "#f0f921"
             ]
            ],
            "type": "histogram2d"
           }
          ],
          "histogram2dcontour": [
           {
            "colorbar": {
             "outlinewidth": 0,
             "ticks": ""
            },
            "colorscale": [
             [
              0,
              "#0d0887"
             ],
             [
              0.1111111111111111,
              "#46039f"
             ],
             [
              0.2222222222222222,
              "#7201a8"
             ],
             [
              0.3333333333333333,
              "#9c179e"
             ],
             [
              0.4444444444444444,
              "#bd3786"
             ],
             [
              0.5555555555555556,
              "#d8576b"
             ],
             [
              0.6666666666666666,
              "#ed7953"
             ],
             [
              0.7777777777777778,
              "#fb9f3a"
             ],
             [
              0.8888888888888888,
              "#fdca26"
             ],
             [
              1,
              "#f0f921"
             ]
            ],
            "type": "histogram2dcontour"
           }
          ],
          "mesh3d": [
           {
            "colorbar": {
             "outlinewidth": 0,
             "ticks": ""
            },
            "type": "mesh3d"
           }
          ],
          "parcoords": [
           {
            "line": {
             "colorbar": {
              "outlinewidth": 0,
              "ticks": ""
             }
            },
            "type": "parcoords"
           }
          ],
          "pie": [
           {
            "automargin": true,
            "type": "pie"
           }
          ],
          "scatter": [
           {
            "marker": {
             "colorbar": {
              "outlinewidth": 0,
              "ticks": ""
             }
            },
            "type": "scatter"
           }
          ],
          "scatter3d": [
           {
            "line": {
             "colorbar": {
              "outlinewidth": 0,
              "ticks": ""
             }
            },
            "marker": {
             "colorbar": {
              "outlinewidth": 0,
              "ticks": ""
             }
            },
            "type": "scatter3d"
           }
          ],
          "scattercarpet": [
           {
            "marker": {
             "colorbar": {
              "outlinewidth": 0,
              "ticks": ""
             }
            },
            "type": "scattercarpet"
           }
          ],
          "scattergeo": [
           {
            "marker": {
             "colorbar": {
              "outlinewidth": 0,
              "ticks": ""
             }
            },
            "type": "scattergeo"
           }
          ],
          "scattergl": [
           {
            "marker": {
             "colorbar": {
              "outlinewidth": 0,
              "ticks": ""
             }
            },
            "type": "scattergl"
           }
          ],
          "scattermapbox": [
           {
            "marker": {
             "colorbar": {
              "outlinewidth": 0,
              "ticks": ""
             }
            },
            "type": "scattermapbox"
           }
          ],
          "scatterpolar": [
           {
            "marker": {
             "colorbar": {
              "outlinewidth": 0,
              "ticks": ""
             }
            },
            "type": "scatterpolar"
           }
          ],
          "scatterpolargl": [
           {
            "marker": {
             "colorbar": {
              "outlinewidth": 0,
              "ticks": ""
             }
            },
            "type": "scatterpolargl"
           }
          ],
          "scatterternary": [
           {
            "marker": {
             "colorbar": {
              "outlinewidth": 0,
              "ticks": ""
             }
            },
            "type": "scatterternary"
           }
          ],
          "surface": [
           {
            "colorbar": {
             "outlinewidth": 0,
             "ticks": ""
            },
            "colorscale": [
             [
              0,
              "#0d0887"
             ],
             [
              0.1111111111111111,
              "#46039f"
             ],
             [
              0.2222222222222222,
              "#7201a8"
             ],
             [
              0.3333333333333333,
              "#9c179e"
             ],
             [
              0.4444444444444444,
              "#bd3786"
             ],
             [
              0.5555555555555556,
              "#d8576b"
             ],
             [
              0.6666666666666666,
              "#ed7953"
             ],
             [
              0.7777777777777778,
              "#fb9f3a"
             ],
             [
              0.8888888888888888,
              "#fdca26"
             ],
             [
              1,
              "#f0f921"
             ]
            ],
            "type": "surface"
           }
          ],
          "table": [
           {
            "cells": {
             "fill": {
              "color": "#EBF0F8"
             },
             "line": {
              "color": "white"
             }
            },
            "header": {
             "fill": {
              "color": "#C8D4E3"
             },
             "line": {
              "color": "white"
             }
            },
            "type": "table"
           }
          ]
         },
         "layout": {
          "annotationdefaults": {
           "arrowcolor": "#2a3f5f",
           "arrowhead": 0,
           "arrowwidth": 1
          },
          "autotypenumbers": "strict",
          "coloraxis": {
           "colorbar": {
            "outlinewidth": 0,
            "ticks": ""
           }
          },
          "colorscale": {
           "diverging": [
            [
             0,
             "#8e0152"
            ],
            [
             0.1,
             "#c51b7d"
            ],
            [
             0.2,
             "#de77ae"
            ],
            [
             0.3,
             "#f1b6da"
            ],
            [
             0.4,
             "#fde0ef"
            ],
            [
             0.5,
             "#f7f7f7"
            ],
            [
             0.6,
             "#e6f5d0"
            ],
            [
             0.7,
             "#b8e186"
            ],
            [
             0.8,
             "#7fbc41"
            ],
            [
             0.9,
             "#4d9221"
            ],
            [
             1,
             "#276419"
            ]
           ],
           "sequential": [
            [
             0,
             "#0d0887"
            ],
            [
             0.1111111111111111,
             "#46039f"
            ],
            [
             0.2222222222222222,
             "#7201a8"
            ],
            [
             0.3333333333333333,
             "#9c179e"
            ],
            [
             0.4444444444444444,
             "#bd3786"
            ],
            [
             0.5555555555555556,
             "#d8576b"
            ],
            [
             0.6666666666666666,
             "#ed7953"
            ],
            [
             0.7777777777777778,
             "#fb9f3a"
            ],
            [
             0.8888888888888888,
             "#fdca26"
            ],
            [
             1,
             "#f0f921"
            ]
           ],
           "sequentialminus": [
            [
             0,
             "#0d0887"
            ],
            [
             0.1111111111111111,
             "#46039f"
            ],
            [
             0.2222222222222222,
             "#7201a8"
            ],
            [
             0.3333333333333333,
             "#9c179e"
            ],
            [
             0.4444444444444444,
             "#bd3786"
            ],
            [
             0.5555555555555556,
             "#d8576b"
            ],
            [
             0.6666666666666666,
             "#ed7953"
            ],
            [
             0.7777777777777778,
             "#fb9f3a"
            ],
            [
             0.8888888888888888,
             "#fdca26"
            ],
            [
             1,
             "#f0f921"
            ]
           ]
          },
          "colorway": [
           "#636efa",
           "#EF553B",
           "#00cc96",
           "#ab63fa",
           "#FFA15A",
           "#19d3f3",
           "#FF6692",
           "#B6E880",
           "#FF97FF",
           "#FECB52"
          ],
          "font": {
           "color": "#2a3f5f"
          },
          "geo": {
           "bgcolor": "white",
           "lakecolor": "white",
           "landcolor": "#E5ECF6",
           "showlakes": true,
           "showland": true,
           "subunitcolor": "white"
          },
          "hoverlabel": {
           "align": "left"
          },
          "hovermode": "closest",
          "mapbox": {
           "style": "light"
          },
          "paper_bgcolor": "white",
          "plot_bgcolor": "#E5ECF6",
          "polar": {
           "angularaxis": {
            "gridcolor": "white",
            "linecolor": "white",
            "ticks": ""
           },
           "bgcolor": "#E5ECF6",
           "radialaxis": {
            "gridcolor": "white",
            "linecolor": "white",
            "ticks": ""
           }
          },
          "scene": {
           "xaxis": {
            "backgroundcolor": "#E5ECF6",
            "gridcolor": "white",
            "gridwidth": 2,
            "linecolor": "white",
            "showbackground": true,
            "ticks": "",
            "zerolinecolor": "white"
           },
           "yaxis": {
            "backgroundcolor": "#E5ECF6",
            "gridcolor": "white",
            "gridwidth": 2,
            "linecolor": "white",
            "showbackground": true,
            "ticks": "",
            "zerolinecolor": "white"
           },
           "zaxis": {
            "backgroundcolor": "#E5ECF6",
            "gridcolor": "white",
            "gridwidth": 2,
            "linecolor": "white",
            "showbackground": true,
            "ticks": "",
            "zerolinecolor": "white"
           }
          },
          "shapedefaults": {
           "line": {
            "color": "#2a3f5f"
           }
          },
          "ternary": {
           "aaxis": {
            "gridcolor": "white",
            "linecolor": "white",
            "ticks": ""
           },
           "baxis": {
            "gridcolor": "white",
            "linecolor": "white",
            "ticks": ""
           },
           "bgcolor": "#E5ECF6",
           "caxis": {
            "gridcolor": "white",
            "linecolor": "white",
            "ticks": ""
           }
          },
          "title": {
           "x": 0.05
          },
          "xaxis": {
           "automargin": true,
           "gridcolor": "white",
           "linecolor": "white",
           "ticks": "",
           "title": {
            "standoff": 15
           },
           "zerolinecolor": "white",
           "zerolinewidth": 2
          },
          "yaxis": {
           "automargin": true,
           "gridcolor": "white",
           "linecolor": "white",
           "ticks": "",
           "title": {
            "standoff": 15
           },
           "zerolinecolor": "white",
           "zerolinewidth": 2
          }
         }
        },
        "title": {
         "text": "Top 10 Most Popular Items"
        }
       }
      },
      "text/html": [
       "<div>                            <div id=\"6059727f-7668-4927-9c43-f819f8c945bc\" class=\"plotly-graph-div\" style=\"height:525px; width:100%;\"></div>            <script type=\"text/javascript\">                require([\"plotly\"], function(Plotly) {                    window.PLOTLYENV=window.PLOTLYENV || {};                                    if (document.getElementById(\"6059727f-7668-4927-9c43-f819f8c945bc\")) {                    Plotly.newPlot(                        \"6059727f-7668-4927-9c43-f819f8c945bc\",                        [{\"domain\":{\"x\":[0,0.5]},\"hoverinfo\":\"label+percent+name\",\"labels\":[\"Coffee\",\"Bread\",\"Tea\",\"Cake\",\"Sandwich\",\"Pastry\",\"Cookies\",\"Hot chocolate\",\"Juice\",\"Scone\",\"Others\"],\"name\":\"Top 10 Items\",\"values\":[3257,1935,858,762,536,490,374,329,259,258,3305],\"type\":\"pie\"}],                        {\"template\":{\"data\":{\"barpolar\":[{\"marker\":{\"line\":{\"color\":\"#E5ECF6\",\"width\":0.5},\"pattern\":{\"fillmode\":\"overlay\",\"size\":10,\"solidity\":0.2}},\"type\":\"barpolar\"}],\"bar\":[{\"error_x\":{\"color\":\"#2a3f5f\"},\"error_y\":{\"color\":\"#2a3f5f\"},\"marker\":{\"line\":{\"color\":\"#E5ECF6\",\"width\":0.5},\"pattern\":{\"fillmode\":\"overlay\",\"size\":10,\"solidity\":0.2}},\"type\":\"bar\"}],\"carpet\":[{\"aaxis\":{\"endlinecolor\":\"#2a3f5f\",\"gridcolor\":\"white\",\"linecolor\":\"white\",\"minorgridcolor\":\"white\",\"startlinecolor\":\"#2a3f5f\"},\"baxis\":{\"endlinecolor\":\"#2a3f5f\",\"gridcolor\":\"white\",\"linecolor\":\"white\",\"minorgridcolor\":\"white\",\"startlinecolor\":\"#2a3f5f\"},\"type\":\"carpet\"}],\"choropleth\":[{\"colorbar\":{\"outlinewidth\":0,\"ticks\":\"\"},\"type\":\"choropleth\"}],\"contourcarpet\":[{\"colorbar\":{\"outlinewidth\":0,\"ticks\":\"\"},\"type\":\"contourcarpet\"}],\"contour\":[{\"colorbar\":{\"outlinewidth\":0,\"ticks\":\"\"},\"colorscale\":[[0.0,\"#0d0887\"],[0.1111111111111111,\"#46039f\"],[0.2222222222222222,\"#7201a8\"],[0.3333333333333333,\"#9c179e\"],[0.4444444444444444,\"#bd3786\"],[0.5555555555555556,\"#d8576b\"],[0.6666666666666666,\"#ed7953\"],[0.7777777777777778,\"#fb9f3a\"],[0.8888888888888888,\"#fdca26\"],[1.0,\"#f0f921\"]],\"type\":\"contour\"}],\"heatmapgl\":[{\"colorbar\":{\"outlinewidth\":0,\"ticks\":\"\"},\"colorscale\":[[0.0,\"#0d0887\"],[0.1111111111111111,\"#46039f\"],[0.2222222222222222,\"#7201a8\"],[0.3333333333333333,\"#9c179e\"],[0.4444444444444444,\"#bd3786\"],[0.5555555555555556,\"#d8576b\"],[0.6666666666666666,\"#ed7953\"],[0.7777777777777778,\"#fb9f3a\"],[0.8888888888888888,\"#fdca26\"],[1.0,\"#f0f921\"]],\"type\":\"heatmapgl\"}],\"heatmap\":[{\"colorbar\":{\"outlinewidth\":0,\"ticks\":\"\"},\"colorscale\":[[0.0,\"#0d0887\"],[0.1111111111111111,\"#46039f\"],[0.2222222222222222,\"#7201a8\"],[0.3333333333333333,\"#9c179e\"],[0.4444444444444444,\"#bd3786\"],[0.5555555555555556,\"#d8576b\"],[0.6666666666666666,\"#ed7953\"],[0.7777777777777778,\"#fb9f3a\"],[0.8888888888888888,\"#fdca26\"],[1.0,\"#f0f921\"]],\"type\":\"heatmap\"}],\"histogram2dcontour\":[{\"colorbar\":{\"outlinewidth\":0,\"ticks\":\"\"},\"colorscale\":[[0.0,\"#0d0887\"],[0.1111111111111111,\"#46039f\"],[0.2222222222222222,\"#7201a8\"],[0.3333333333333333,\"#9c179e\"],[0.4444444444444444,\"#bd3786\"],[0.5555555555555556,\"#d8576b\"],[0.6666666666666666,\"#ed7953\"],[0.7777777777777778,\"#fb9f3a\"],[0.8888888888888888,\"#fdca26\"],[1.0,\"#f0f921\"]],\"type\":\"histogram2dcontour\"}],\"histogram2d\":[{\"colorbar\":{\"outlinewidth\":0,\"ticks\":\"\"},\"colorscale\":[[0.0,\"#0d0887\"],[0.1111111111111111,\"#46039f\"],[0.2222222222222222,\"#7201a8\"],[0.3333333333333333,\"#9c179e\"],[0.4444444444444444,\"#bd3786\"],[0.5555555555555556,\"#d8576b\"],[0.6666666666666666,\"#ed7953\"],[0.7777777777777778,\"#fb9f3a\"],[0.8888888888888888,\"#fdca26\"],[1.0,\"#f0f921\"]],\"type\":\"histogram2d\"}],\"histogram\":[{\"marker\":{\"pattern\":{\"fillmode\":\"overlay\",\"size\":10,\"solidity\":0.2}},\"type\":\"histogram\"}],\"mesh3d\":[{\"colorbar\":{\"outlinewidth\":0,\"ticks\":\"\"},\"type\":\"mesh3d\"}],\"parcoords\":[{\"line\":{\"colorbar\":{\"outlinewidth\":0,\"ticks\":\"\"}},\"type\":\"parcoords\"}],\"pie\":[{\"automargin\":true,\"type\":\"pie\"}],\"scatter3d\":[{\"line\":{\"colorbar\":{\"outlinewidth\":0,\"ticks\":\"\"}},\"marker\":{\"colorbar\":{\"outlinewidth\":0,\"ticks\":\"\"}},\"type\":\"scatter3d\"}],\"scattercarpet\":[{\"marker\":{\"colorbar\":{\"outlinewidth\":0,\"ticks\":\"\"}},\"type\":\"scattercarpet\"}],\"scattergeo\":[{\"marker\":{\"colorbar\":{\"outlinewidth\":0,\"ticks\":\"\"}},\"type\":\"scattergeo\"}],\"scattergl\":[{\"marker\":{\"colorbar\":{\"outlinewidth\":0,\"ticks\":\"\"}},\"type\":\"scattergl\"}],\"scattermapbox\":[{\"marker\":{\"colorbar\":{\"outlinewidth\":0,\"ticks\":\"\"}},\"type\":\"scattermapbox\"}],\"scatterpolargl\":[{\"marker\":{\"colorbar\":{\"outlinewidth\":0,\"ticks\":\"\"}},\"type\":\"scatterpolargl\"}],\"scatterpolar\":[{\"marker\":{\"colorbar\":{\"outlinewidth\":0,\"ticks\":\"\"}},\"type\":\"scatterpolar\"}],\"scatter\":[{\"marker\":{\"colorbar\":{\"outlinewidth\":0,\"ticks\":\"\"}},\"type\":\"scatter\"}],\"scatterternary\":[{\"marker\":{\"colorbar\":{\"outlinewidth\":0,\"ticks\":\"\"}},\"type\":\"scatterternary\"}],\"surface\":[{\"colorbar\":{\"outlinewidth\":0,\"ticks\":\"\"},\"colorscale\":[[0.0,\"#0d0887\"],[0.1111111111111111,\"#46039f\"],[0.2222222222222222,\"#7201a8\"],[0.3333333333333333,\"#9c179e\"],[0.4444444444444444,\"#bd3786\"],[0.5555555555555556,\"#d8576b\"],[0.6666666666666666,\"#ed7953\"],[0.7777777777777778,\"#fb9f3a\"],[0.8888888888888888,\"#fdca26\"],[1.0,\"#f0f921\"]],\"type\":\"surface\"}],\"table\":[{\"cells\":{\"fill\":{\"color\":\"#EBF0F8\"},\"line\":{\"color\":\"white\"}},\"header\":{\"fill\":{\"color\":\"#C8D4E3\"},\"line\":{\"color\":\"white\"}},\"type\":\"table\"}]},\"layout\":{\"annotationdefaults\":{\"arrowcolor\":\"#2a3f5f\",\"arrowhead\":0,\"arrowwidth\":1},\"autotypenumbers\":\"strict\",\"coloraxis\":{\"colorbar\":{\"outlinewidth\":0,\"ticks\":\"\"}},\"colorscale\":{\"diverging\":[[0,\"#8e0152\"],[0.1,\"#c51b7d\"],[0.2,\"#de77ae\"],[0.3,\"#f1b6da\"],[0.4,\"#fde0ef\"],[0.5,\"#f7f7f7\"],[0.6,\"#e6f5d0\"],[0.7,\"#b8e186\"],[0.8,\"#7fbc41\"],[0.9,\"#4d9221\"],[1,\"#276419\"]],\"sequential\":[[0.0,\"#0d0887\"],[0.1111111111111111,\"#46039f\"],[0.2222222222222222,\"#7201a8\"],[0.3333333333333333,\"#9c179e\"],[0.4444444444444444,\"#bd3786\"],[0.5555555555555556,\"#d8576b\"],[0.6666666666666666,\"#ed7953\"],[0.7777777777777778,\"#fb9f3a\"],[0.8888888888888888,\"#fdca26\"],[1.0,\"#f0f921\"]],\"sequentialminus\":[[0.0,\"#0d0887\"],[0.1111111111111111,\"#46039f\"],[0.2222222222222222,\"#7201a8\"],[0.3333333333333333,\"#9c179e\"],[0.4444444444444444,\"#bd3786\"],[0.5555555555555556,\"#d8576b\"],[0.6666666666666666,\"#ed7953\"],[0.7777777777777778,\"#fb9f3a\"],[0.8888888888888888,\"#fdca26\"],[1.0,\"#f0f921\"]]},\"colorway\":[\"#636efa\",\"#EF553B\",\"#00cc96\",\"#ab63fa\",\"#FFA15A\",\"#19d3f3\",\"#FF6692\",\"#B6E880\",\"#FF97FF\",\"#FECB52\"],\"font\":{\"color\":\"#2a3f5f\"},\"geo\":{\"bgcolor\":\"white\",\"lakecolor\":\"white\",\"landcolor\":\"#E5ECF6\",\"showlakes\":true,\"showland\":true,\"subunitcolor\":\"white\"},\"hoverlabel\":{\"align\":\"left\"},\"hovermode\":\"closest\",\"mapbox\":{\"style\":\"light\"},\"paper_bgcolor\":\"white\",\"plot_bgcolor\":\"#E5ECF6\",\"polar\":{\"angularaxis\":{\"gridcolor\":\"white\",\"linecolor\":\"white\",\"ticks\":\"\"},\"bgcolor\":\"#E5ECF6\",\"radialaxis\":{\"gridcolor\":\"white\",\"linecolor\":\"white\",\"ticks\":\"\"}},\"scene\":{\"xaxis\":{\"backgroundcolor\":\"#E5ECF6\",\"gridcolor\":\"white\",\"gridwidth\":2,\"linecolor\":\"white\",\"showbackground\":true,\"ticks\":\"\",\"zerolinecolor\":\"white\"},\"yaxis\":{\"backgroundcolor\":\"#E5ECF6\",\"gridcolor\":\"white\",\"gridwidth\":2,\"linecolor\":\"white\",\"showbackground\":true,\"ticks\":\"\",\"zerolinecolor\":\"white\"},\"zaxis\":{\"backgroundcolor\":\"#E5ECF6\",\"gridcolor\":\"white\",\"gridwidth\":2,\"linecolor\":\"white\",\"showbackground\":true,\"ticks\":\"\",\"zerolinecolor\":\"white\"}},\"shapedefaults\":{\"line\":{\"color\":\"#2a3f5f\"}},\"ternary\":{\"aaxis\":{\"gridcolor\":\"white\",\"linecolor\":\"white\",\"ticks\":\"\"},\"baxis\":{\"gridcolor\":\"white\",\"linecolor\":\"white\",\"ticks\":\"\"},\"bgcolor\":\"#E5ECF6\",\"caxis\":{\"gridcolor\":\"white\",\"linecolor\":\"white\",\"ticks\":\"\"}},\"title\":{\"x\":0.05},\"xaxis\":{\"automargin\":true,\"gridcolor\":\"white\",\"linecolor\":\"white\",\"ticks\":\"\",\"title\":{\"standoff\":15},\"zerolinecolor\":\"white\",\"zerolinewidth\":2},\"yaxis\":{\"automargin\":true,\"gridcolor\":\"white\",\"linecolor\":\"white\",\"ticks\":\"\",\"title\":{\"standoff\":15},\"zerolinecolor\":\"white\",\"zerolinewidth\":2}}},\"title\":{\"text\":\"Top 10 Most Popular Items\"}},                        {\"responsive\": true}                    ).then(function(){\n",
       "                            \n",
       "var gd = document.getElementById('6059727f-7668-4927-9c43-f819f8c945bc');\n",
       "var x = new MutationObserver(function (mutations, observer) {{\n",
       "        var display = window.getComputedStyle(gd).display;\n",
       "        if (!display || display === 'none') {{\n",
       "            console.log([gd, 'removed!']);\n",
       "            Plotly.purge(gd);\n",
       "            observer.disconnect();\n",
       "        }}\n",
       "}});\n",
       "\n",
       "// Listen for the removal of the full notebook cells\n",
       "var notebookContainer = gd.closest('#notebook-container');\n",
       "if (notebookContainer) {{\n",
       "    x.observe(notebookContainer, {childList: true});\n",
       "}}\n",
       "\n",
       "// Listen for the clearing of the current output cell\n",
       "var outputEl = gd.closest('.output');\n",
       "if (outputEl) {{\n",
       "    x.observe(outputEl, {childList: true});\n",
       "}}\n",
       "\n",
       "                        })                };                });            </script>        </div>"
      ]
     },
     "metadata": {},
     "output_type": "display_data"
    }
   ],
   "source": [
    "from plotly.offline import download_plotlyjs, init_notebook_mode, plot, iplot\n",
    "import plotly\n",
    "\n",
    "plotly.offline.init_notebook_mode(connected=True)\n",
    "values_2 = item_list_2.tolist()\n",
    "labels_2 = item_list_2.index.values.tolist()\n",
    "fig = {\n",
    "  \"data\": [\n",
    "    {\n",
    "      \"values\": values_2,\n",
    "      \"labels\": labels_2,\n",
    "      \"domain\": {\"x\": [0, .5]},\n",
    "      \"name\": \"Top 10 Items\",\n",
    "      \"hoverinfo\":\"label+percent+name\",\n",
    "      \"type\": \"pie\"\n",
    "    },],\n",
    "  \"layout\": {\n",
    "        \"title\":\"Top 10 Most Popular Items\",\n",
    "    }\n",
    "}\n",
    "iplot(fig)\n"
   ]
  },
  {
   "cell_type": "code",
   "execution_count": 21,
   "id": "49b0d5b2",
   "metadata": {},
   "outputs": [
    {
     "data": {
      "text/html": [
       "<div>\n",
       "<style scoped>\n",
       "    .dataframe tbody tr th:only-of-type {\n",
       "        vertical-align: middle;\n",
       "    }\n",
       "\n",
       "    .dataframe tbody tr th {\n",
       "        vertical-align: top;\n",
       "    }\n",
       "\n",
       "    .dataframe thead th {\n",
       "        text-align: right;\n",
       "    }\n",
       "</style>\n",
       "<table border=\"1\" class=\"dataframe\">\n",
       "  <thead>\n",
       "    <tr style=\"text-align: right;\">\n",
       "      <th></th>\n",
       "      <th>TransactionNo</th>\n",
       "      <th>Items</th>\n",
       "    </tr>\n",
       "  </thead>\n",
       "  <tbody>\n",
       "    <tr>\n",
       "      <th>0</th>\n",
       "      <td>1</td>\n",
       "      <td>Bread</td>\n",
       "    </tr>\n",
       "    <tr>\n",
       "      <th>1</th>\n",
       "      <td>2</td>\n",
       "      <td>Scandinavian</td>\n",
       "    </tr>\n",
       "    <tr>\n",
       "      <th>2</th>\n",
       "      <td>2</td>\n",
       "      <td>Scandinavian</td>\n",
       "    </tr>\n",
       "    <tr>\n",
       "      <th>3</th>\n",
       "      <td>3</td>\n",
       "      <td>Hot chocolate</td>\n",
       "    </tr>\n",
       "    <tr>\n",
       "      <th>4</th>\n",
       "      <td>3</td>\n",
       "      <td>Jam</td>\n",
       "    </tr>\n",
       "    <tr>\n",
       "      <th>...</th>\n",
       "      <td>...</td>\n",
       "      <td>...</td>\n",
       "    </tr>\n",
       "    <tr>\n",
       "      <th>20502</th>\n",
       "      <td>9682</td>\n",
       "      <td>Coffee</td>\n",
       "    </tr>\n",
       "    <tr>\n",
       "      <th>20503</th>\n",
       "      <td>9682</td>\n",
       "      <td>Tea</td>\n",
       "    </tr>\n",
       "    <tr>\n",
       "      <th>20504</th>\n",
       "      <td>9683</td>\n",
       "      <td>Coffee</td>\n",
       "    </tr>\n",
       "    <tr>\n",
       "      <th>20505</th>\n",
       "      <td>9683</td>\n",
       "      <td>Pastry</td>\n",
       "    </tr>\n",
       "    <tr>\n",
       "      <th>20506</th>\n",
       "      <td>9684</td>\n",
       "      <td>Smoothies</td>\n",
       "    </tr>\n",
       "  </tbody>\n",
       "</table>\n",
       "<p>20507 rows × 2 columns</p>\n",
       "</div>"
      ],
      "text/plain": [
       "       TransactionNo          Items\n",
       "0                  1          Bread\n",
       "1                  2   Scandinavian\n",
       "2                  2   Scandinavian\n",
       "3                  3  Hot chocolate\n",
       "4                  3            Jam\n",
       "...              ...            ...\n",
       "20502           9682         Coffee\n",
       "20503           9682            Tea\n",
       "20504           9683         Coffee\n",
       "20505           9683         Pastry\n",
       "20506           9684      Smoothies\n",
       "\n",
       "[20507 rows x 2 columns]"
      ]
     },
     "execution_count": 21,
     "metadata": {},
     "output_type": "execute_result"
    }
   ],
   "source": [
    "df_associa=df[['TransactionNo', 'Items']]\n",
    "df_associa"
   ]
  },
  {
   "cell_type": "code",
   "execution_count": 22,
   "id": "1f54cec6",
   "metadata": {},
   "outputs": [],
   "source": [
    " df_associa1= df_associa.groupby('TransactionNo').agg(','.join).reset_index()"
   ]
  },
  {
   "cell_type": "code",
   "execution_count": 23,
   "id": "ac6c705b",
   "metadata": {},
   "outputs": [
    {
     "data": {
      "text/html": [
       "<div>\n",
       "<style scoped>\n",
       "    .dataframe tbody tr th:only-of-type {\n",
       "        vertical-align: middle;\n",
       "    }\n",
       "\n",
       "    .dataframe tbody tr th {\n",
       "        vertical-align: top;\n",
       "    }\n",
       "\n",
       "    .dataframe thead th {\n",
       "        text-align: right;\n",
       "    }\n",
       "</style>\n",
       "<table border=\"1\" class=\"dataframe\">\n",
       "  <thead>\n",
       "    <tr style=\"text-align: right;\">\n",
       "      <th></th>\n",
       "      <th>TransactionNo</th>\n",
       "      <th>Items</th>\n",
       "    </tr>\n",
       "  </thead>\n",
       "  <tbody>\n",
       "    <tr>\n",
       "      <th>0</th>\n",
       "      <td>1</td>\n",
       "      <td>Bread</td>\n",
       "    </tr>\n",
       "    <tr>\n",
       "      <th>1</th>\n",
       "      <td>2</td>\n",
       "      <td>Scandinavian,Scandinavian</td>\n",
       "    </tr>\n",
       "    <tr>\n",
       "      <th>2</th>\n",
       "      <td>3</td>\n",
       "      <td>Hot chocolate,Jam,Cookies</td>\n",
       "    </tr>\n",
       "    <tr>\n",
       "      <th>3</th>\n",
       "      <td>4</td>\n",
       "      <td>Muffin</td>\n",
       "    </tr>\n",
       "    <tr>\n",
       "      <th>4</th>\n",
       "      <td>5</td>\n",
       "      <td>Coffee,Pastry,Bread</td>\n",
       "    </tr>\n",
       "    <tr>\n",
       "      <th>...</th>\n",
       "      <td>...</td>\n",
       "      <td>...</td>\n",
       "    </tr>\n",
       "    <tr>\n",
       "      <th>9460</th>\n",
       "      <td>9680</td>\n",
       "      <td>Bread</td>\n",
       "    </tr>\n",
       "    <tr>\n",
       "      <th>9461</th>\n",
       "      <td>9681</td>\n",
       "      <td>Truffles,Tea,Spanish Brunch,Christmas common</td>\n",
       "    </tr>\n",
       "    <tr>\n",
       "      <th>9462</th>\n",
       "      <td>9682</td>\n",
       "      <td>Muffin,Tacos/Fajita,Coffee,Tea</td>\n",
       "    </tr>\n",
       "    <tr>\n",
       "      <th>9463</th>\n",
       "      <td>9683</td>\n",
       "      <td>Coffee,Pastry</td>\n",
       "    </tr>\n",
       "    <tr>\n",
       "      <th>9464</th>\n",
       "      <td>9684</td>\n",
       "      <td>Smoothies</td>\n",
       "    </tr>\n",
       "  </tbody>\n",
       "</table>\n",
       "<p>9465 rows × 2 columns</p>\n",
       "</div>"
      ],
      "text/plain": [
       "      TransactionNo                                         Items\n",
       "0                 1                                         Bread\n",
       "1                 2                     Scandinavian,Scandinavian\n",
       "2                 3                     Hot chocolate,Jam,Cookies\n",
       "3                 4                                        Muffin\n",
       "4                 5                           Coffee,Pastry,Bread\n",
       "...             ...                                           ...\n",
       "9460           9680                                         Bread\n",
       "9461           9681  Truffles,Tea,Spanish Brunch,Christmas common\n",
       "9462           9682                Muffin,Tacos/Fajita,Coffee,Tea\n",
       "9463           9683                                 Coffee,Pastry\n",
       "9464           9684                                     Smoothies\n",
       "\n",
       "[9465 rows x 2 columns]"
      ]
     },
     "execution_count": 23,
     "metadata": {},
     "output_type": "execute_result"
    }
   ],
   "source": [
    "df_associa1"
   ]
  },
  {
   "cell_type": "code",
   "execution_count": 24,
   "id": "3c280648",
   "metadata": {},
   "outputs": [
    {
     "data": {
      "text/plain": [
       "[['Bread'],\n",
       " ['Scandinavian', 'Scandinavian'],\n",
       " ['Hot chocolate', 'Jam', 'Cookies'],\n",
       " ['Muffin'],\n",
       " ['Coffee', 'Pastry', 'Bread'],\n",
       " ['Medialuna', 'Pastry', 'Muffin'],\n",
       " ['Medialuna', 'Pastry', 'Coffee', 'Tea'],\n",
       " ['Pastry', 'Bread'],\n",
       " ['Bread', 'Muffin'],\n",
       " ['Scandinavian', 'Medialuna'],\n",
       " ['Bread', 'Medialuna', 'Bread'],\n",
       " ['Jam', 'Coffee', 'Tartine', 'Pastry', 'Tea'],\n",
       " ['Basket', 'Bread', 'Coffee'],\n",
       " ['Bread', 'Medialuna', 'Pastry'],\n",
       " ['Mineral water', 'Scandinavian'],\n",
       " ['Bread', 'Medialuna', 'Coffee'],\n",
       " ['Hot chocolate'],\n",
       " ['Farm House'],\n",
       " ['Farm House', 'Bread'],\n",
       " ['Bread', 'Medialuna'],\n",
       " ['Coffee', 'Coffee', 'Medialuna', 'Bread'],\n",
       " ['Jam'],\n",
       " ['Scandinavian', 'Muffin'],\n",
       " ['Bread'],\n",
       " ['Scandinavian'],\n",
       " ['Fudge'],\n",
       " ['Scandinavian'],\n",
       " ['Coffee', 'Bread'],\n",
       " ['Bread', 'Jam'],\n",
       " ['Bread'],\n",
       " ['Basket'],\n",
       " ['Scandinavian', 'Muffin'],\n",
       " ['Coffee'],\n",
       " ['Coffee', 'Muffin'],\n",
       " ['Muffin', 'Scandinavian'],\n",
       " ['Tea', 'Bread'],\n",
       " ['Coffee', 'Bread'],\n",
       " ['Bread', 'Tea'],\n",
       " ['Scandinavian'],\n",
       " ['Juice', 'Tartine', 'Coffee', 'Muffin'],\n",
       " ['Scandinavian'],\n",
       " ['Bread', 'Tea'],\n",
       " ['Scandinavian', 'Fudge'],\n",
       " ['Coffee', 'Medialuna'],\n",
       " ['Coffee', 'Hot chocolate', 'Medialuna'],\n",
       " ['Coffee'],\n",
       " [\"Ella's Kitchen Pouches\", 'Juice', 'Bread', 'Muffin', 'Jam'],\n",
       " ['Coffee'],\n",
       " ['Coffee', 'Coffee', 'Medialuna'],\n",
       " ['Bread', 'Victorian Sponge'],\n",
       " ['Bread'],\n",
       " ['Scandinavian'],\n",
       " ['Bread'],\n",
       " ['Frittata', 'Coffee', 'Tea', 'Hearty & Seasonal'],\n",
       " ['Coffee', 'Frittata'],\n",
       " ['Scandinavian'],\n",
       " ['Victorian Sponge', 'Hot chocolate', 'Tea', 'Soup'],\n",
       " ['Tea'],\n",
       " ['Cookies', 'Coffee', 'Juice', 'Coffee'],\n",
       " ['Coffee'],\n",
       " ['Pick and Mix Bowls',\n",
       "  'Hearty & Seasonal',\n",
       "  'Hearty & Seasonal',\n",
       "  'Coffee',\n",
       "  'Smoothies',\n",
       "  'Coffee'],\n",
       " ['Coffee'],\n",
       " ['Cake'],\n",
       " ['Tartine', 'Mighty Protein', 'Tea', 'Coffee'],\n",
       " ['Hearty & Seasonal', 'Frittata', 'Mineral water'],\n",
       " ['Hearty & Seasonal', 'Mineral water', 'Muffin'],\n",
       " ['Frittata', 'Coffee', 'Tea', 'Scandinavian', 'Chicken sand'],\n",
       " ['Bread', 'Tea', 'Victorian Sponge'],\n",
       " ['Fudge'],\n",
       " ['Muffin'],\n",
       " ['Coffee', 'Bread'],\n",
       " ['Bread'],\n",
       " ['Coffee', 'Bread'],\n",
       " ['Jam', 'Frittata'],\n",
       " ['Coffee'],\n",
       " ['Scandinavian'],\n",
       " ['Fudge'],\n",
       " ['Fudge', 'Tea', 'Coffee', 'Muffin'],\n",
       " ['Frittata', 'Bread', 'Coffee'],\n",
       " ['Coffee', 'Cake'],\n",
       " ['Tartine', 'Bread'],\n",
       " ['Coffee', 'Bread'],\n",
       " ['Bread'],\n",
       " ['Coffee', 'Coffee', 'Pastry', 'Medialuna'],\n",
       " ['Juice'],\n",
       " ['Bread'],\n",
       " ['Coffee', 'Coffee', 'Jam'],\n",
       " ['Bread'],\n",
       " ['Bread', 'Coffee'],\n",
       " ['Tea'],\n",
       " ['Coffee'],\n",
       " ['Bread', 'Coke'],\n",
       " ['Coffee', 'Coffee'],\n",
       " ['Tea', 'Pastry', 'Farm House'],\n",
       " ['Pastry', 'Pastry', 'Coffee', 'Juice'],\n",
       " ['Coffee', 'Pastry', 'Juice'],\n",
       " ['Farm House'],\n",
       " ['Pastry', 'Pastry', 'Coffee', 'Bread'],\n",
       " ['Bread'],\n",
       " ['Coffee', 'Pastry'],\n",
       " ['Farm House'],\n",
       " ['Bread'],\n",
       " ['Coffee', 'Coffee', 'Medialuna', 'Muffin', 'Coffee'],\n",
       " ['Coffee', 'Tea', 'Cake'],\n",
       " ['Coffee', 'Coffee', 'Pastry', 'Pastry'],\n",
       " ['Coffee', 'Tea'],\n",
       " ['Farm House', 'Muffin'],\n",
       " ['Bread', 'Muffin', 'Pastry'],\n",
       " ['Pastry'],\n",
       " ['Coffee'],\n",
       " ['Coffee'],\n",
       " ['Coffee', 'Cake'],\n",
       " ['Farm House'],\n",
       " ['Bread'],\n",
       " ['Coffee'],\n",
       " ['Cookies', 'Cake', 'Coffee', 'My-5 Fruit Shoot'],\n",
       " ['Cookies', 'Cookies', 'Tea', 'Pastry'],\n",
       " ['Coffee', 'Coffee', 'Muffin'],\n",
       " ['Farm House'],\n",
       " ['Coffee', 'Bread'],\n",
       " ['Cookies'],\n",
       " ['Jam', 'Coffee', 'Coffee', 'Juice'],\n",
       " ['Coffee', 'Soup'],\n",
       " ['Tea'],\n",
       " ['Coffee', 'Jam'],\n",
       " ['Farm House'],\n",
       " ['Tartine', 'Coffee', 'Tea'],\n",
       " ['Coffee', 'Coffee', 'Cake'],\n",
       " ['Coffee', 'Coffee', 'Muffin'],\n",
       " ['Bread', 'Coffee'],\n",
       " ['Tea', 'Juice', 'Pick and Mix Bowls', 'Cookies'],\n",
       " ['Hearty & Seasonal', 'Soup'],\n",
       " ['Hearty & Seasonal', 'Tea', 'Farm House'],\n",
       " ['Bread'],\n",
       " ['Tea', 'Soup'],\n",
       " ['Farm House'],\n",
       " ['Soup', 'Hearty & Seasonal', 'Coffee'],\n",
       " ['Bread', 'Muffin', 'Hearty & Seasonal'],\n",
       " ['Coffee', 'Coffee', 'Cookies'],\n",
       " ['Bread'],\n",
       " ['Tea', 'Muffin'],\n",
       " ['Tea'],\n",
       " ['Soup', 'Hearty & Seasonal'],\n",
       " ['Coffee', 'Tea', 'Focaccia'],\n",
       " ['Sandwich'],\n",
       " ['Tartine', 'Coffee'],\n",
       " ['Fudge', 'Coffee', 'Coffee'],\n",
       " ['Coffee'],\n",
       " ['Bread'],\n",
       " ['Coke', 'Soup'],\n",
       " ['Muffin'],\n",
       " ['Tea', 'Coffee', 'Cookies', 'Muffin'],\n",
       " ['Mighty Protein', 'Hearty & Seasonal', 'Coffee', 'Coke'],\n",
       " ['Tea', 'Muffin', 'Sandwich'],\n",
       " ['Coffee', 'Muffin'],\n",
       " ['Coffee', 'Bread'],\n",
       " ['Coffee', 'Muffin'],\n",
       " ['Bread', 'Hot chocolate', 'Cookies'],\n",
       " ['Mineral water', 'Muffin'],\n",
       " ['Tea'],\n",
       " ['Muffin'],\n",
       " ['Coffee', 'Juice'],\n",
       " ['Coffee', 'Muffin'],\n",
       " ['Tea'],\n",
       " ['Coffee', 'Muffin'],\n",
       " ['Sandwich', 'Hearty & Seasonal', 'Bread', 'Mineral water'],\n",
       " ['Tea', 'Coffee'],\n",
       " ['Mineral water'],\n",
       " ['Coffee'],\n",
       " ['Soup', 'Tea'],\n",
       " ['Bread', 'Coffee'],\n",
       " ['Bread', 'Muffin'],\n",
       " ['Coffee'],\n",
       " ['Bread'],\n",
       " ['Cookies', 'Coffee'],\n",
       " ['Coffee', 'Pastry'],\n",
       " ['Coffee', 'Pastry'],\n",
       " ['Jam', 'Tea'],\n",
       " ['Tea', 'Tea'],\n",
       " ['Pastry', 'Pastry', \"Ella's Kitchen Pouches\"],\n",
       " ['Pastry'],\n",
       " ['Farm House', 'Tea'],\n",
       " ['Tea', 'Victorian Sponge'],\n",
       " ['Tea', 'Pastry'],\n",
       " ['Bread'],\n",
       " ['Coffee'],\n",
       " ['Bread', 'Coffee'],\n",
       " ['Coffee', 'Pastry', 'Pastry'],\n",
       " ['Soup', 'Tea'],\n",
       " ['Bread'],\n",
       " ['Coffee'],\n",
       " ['Bread', 'Bread'],\n",
       " ['Bread', 'Scandinavian'],\n",
       " ['Bread', 'Cake', 'Cookies'],\n",
       " ['Coffee', 'Coffee', 'Tea'],\n",
       " ['Coffee', 'Cookies'],\n",
       " ['Coffee'],\n",
       " ['Bread'],\n",
       " ['Coffee', 'Pastry'],\n",
       " ['Coffee', 'Coffee'],\n",
       " ['Coffee'],\n",
       " ['Scandinavian', 'Bread'],\n",
       " ['Coffee', 'Coffee', 'Pastry'],\n",
       " ['Scandinavian', 'Coffee', 'Pastry'],\n",
       " ['Hearty & Seasonal', 'Coffee', 'Muffin'],\n",
       " ['Bread'],\n",
       " ['Coffee'],\n",
       " ['Scandinavian'],\n",
       " ['Soup', 'Coffee'],\n",
       " ['Coffee', 'Cookies', 'Tartine'],\n",
       " ['Bread'],\n",
       " ['Bread', 'Tea', 'Tea'],\n",
       " ['Pastry', 'Coffee'],\n",
       " ['Tartine', 'Coffee'],\n",
       " ['Bread', 'Cookies'],\n",
       " ['Sandwich'],\n",
       " ['Tartine'],\n",
       " ['Bread', 'Pastry'],\n",
       " ['Bread', 'Scandinavian'],\n",
       " ['Scandinavian'],\n",
       " ['Alfajores', 'Coffee'],\n",
       " ['Coffee'],\n",
       " ['Coffee', 'Coke', 'Soup'],\n",
       " ['Cake'],\n",
       " ['Tea', 'Sandwich', 'Soup'],\n",
       " ['Coffee'],\n",
       " ['Hearty & Seasonal', 'Bread'],\n",
       " ['Alfajores'],\n",
       " ['Cake'],\n",
       " ['Tea', 'Tea', 'Bread'],\n",
       " ['Coffee', 'Tea', 'Bread', 'Soup'],\n",
       " ['Coffee', 'Coffee'],\n",
       " ['Scandinavian'],\n",
       " ['Fudge'],\n",
       " ['Coffee', 'Sandwich'],\n",
       " ['Tea', 'Bread', 'Cookies', 'Pastry'],\n",
       " ['Muffin'],\n",
       " ['Scandinavian'],\n",
       " ['Jam', 'Tea'],\n",
       " ['Juice', 'Tea', 'Alfajores'],\n",
       " ['Cake', 'Muffin', 'Coffee', 'Soup'],\n",
       " ['Hot chocolate', 'Cake', 'Coffee'],\n",
       " ['Cake', 'Cookies'],\n",
       " ['Tea', 'Bread'],\n",
       " ['Alfajores', 'Coffee', 'Coffee', 'Coffee', 'Juice'],\n",
       " ['Coffee', 'Tea', 'Soup'],\n",
       " ['Hot chocolate'],\n",
       " ['Cookies'],\n",
       " ['Coffee', 'Medialuna'],\n",
       " ['Bread', 'Eggs'],\n",
       " ['Scandinavian'],\n",
       " ['Medialuna'],\n",
       " ['Coffee', 'Coffee', 'Pastry'],\n",
       " ['Coffee', 'Bread'],\n",
       " ['Bread', 'Coffee', 'Pastry'],\n",
       " ['Coffee', 'Pastry'],\n",
       " ['Pastry'],\n",
       " ['Coffee'],\n",
       " ['Coffee'],\n",
       " ['Coffee', 'Hot chocolate', 'Pastry'],\n",
       " ['Coke'],\n",
       " ['Coffee', 'Jam'],\n",
       " ['Tea'],\n",
       " ['Bread', 'Pastry'],\n",
       " ['Coffee', 'Alfajores', 'Farm House'],\n",
       " ['Tea', 'Pastry'],\n",
       " ['Bread'],\n",
       " ['Coffee', 'Jam'],\n",
       " ['Coffee', 'Tea', 'Coffee', 'Pastry'],\n",
       " ['Farm House'],\n",
       " ['Coffee', 'Bread', 'Pastry'],\n",
       " ['Farm House'],\n",
       " ['Coffee', 'Coffee', 'Pastry'],\n",
       " ['Farm House'],\n",
       " ['Coffee', 'Pastry'],\n",
       " ['Coffee'],\n",
       " ['Coffee', 'Pastry'],\n",
       " ['Bread', 'Bread'],\n",
       " ['Bread', 'Coffee', 'Pastry'],\n",
       " ['Pastry', 'Coffee'],\n",
       " ['Coffee', 'Farm House'],\n",
       " ['Farm House', 'Farm House', 'Pastry'],\n",
       " ['Bread', 'Juice', 'Alfajores'],\n",
       " ['Coffee', 'Pastry'],\n",
       " ['Bread', 'Alfajores'],\n",
       " ['Bread'],\n",
       " ['Coffee', 'Cookies'],\n",
       " ['Coffee'],\n",
       " ['Cookies'],\n",
       " ['Hearty & Seasonal'],\n",
       " ['Coffee'],\n",
       " ['Jam', 'Tartine', 'Bread'],\n",
       " ['Farm House', 'Scandinavian'],\n",
       " ['Hearty & Seasonal', 'Coffee', 'Muffin', 'Scandinavian'],\n",
       " ['Tartine', 'Pick and Mix Bowls', 'Coffee', 'Coke'],\n",
       " ['Bread'],\n",
       " ['Scandinavian', 'Farm House', 'Alfajores', 'Coffee', 'Coffee'],\n",
       " ['Juice', 'Mineral water', 'Soup'],\n",
       " ['Soup', 'Tea'],\n",
       " ['Juice', 'Tea', 'Cookies', 'Soup'],\n",
       " ['Hearty & Seasonal', 'Tea'],\n",
       " ['Fudge'],\n",
       " ['Coffee', 'Mineral water', 'Juice', 'Soup'],\n",
       " ['Hearty & Seasonal'],\n",
       " ['Hearty & Seasonal', 'Smoothies'],\n",
       " ['Hearty & Seasonal', 'Tea'],\n",
       " ['Coffee', 'Sandwich', 'Sandwich'],\n",
       " ['Cookies', 'Farm House'],\n",
       " ['Soup', 'Tea', 'Juice'],\n",
       " ['Soup'],\n",
       " ['Coffee'],\n",
       " ['Bread'],\n",
       " ['Cookies', 'Tea'],\n",
       " ['Soup', 'Hearty & Seasonal', 'Bread'],\n",
       " ['Coffee'],\n",
       " ['Coffee'],\n",
       " ['Coffee', 'Tea'],\n",
       " ['Bread'],\n",
       " ['Tea'],\n",
       " ['Coffee', 'Tea'],\n",
       " ['Coffee'],\n",
       " ['Fudge'],\n",
       " ['Tea'],\n",
       " ['Soup', 'Tea'],\n",
       " ['Juice'],\n",
       " ['Alfajores'],\n",
       " ['Bread'],\n",
       " ['Coffee', 'Alfajores'],\n",
       " ['Juice', 'Alfajores', 'Cookies', 'Pick and Mix Bowls', 'Mineral water'],\n",
       " ['Coffee', 'Alfajores'],\n",
       " ['Fudge'],\n",
       " ['Mighty Protein', 'Juice'],\n",
       " ['Coffee', 'Mineral water', 'Alfajores'],\n",
       " ['Mighty Protein', 'Coffee'],\n",
       " ['Alfajores'],\n",
       " ['Coffee', 'Bread'],\n",
       " ['Medialuna', 'Medialuna'],\n",
       " ['Medialuna', 'Bread'],\n",
       " ['Farm House'],\n",
       " ['Coffee', 'Pastry'],\n",
       " ['Farm House'],\n",
       " ['Coffee', 'Coffee', 'Pastry', 'Pastry', 'Coffee'],\n",
       " ['Medialuna'],\n",
       " ['Bread', 'Tea', 'Sandwich'],\n",
       " ['Bread'],\n",
       " ['Jam', 'Coffee', 'Farm House'],\n",
       " ['Focaccia'],\n",
       " ['Bread'],\n",
       " ['Tartine', 'Pastry', 'Bread', 'My-5 Fruit Shoot'],\n",
       " ['Farm House', 'Pastry'],\n",
       " ['Bread', 'Pastry'],\n",
       " ['Pastry', 'Bread'],\n",
       " ['Jam', 'Coffee'],\n",
       " ['Farm House'],\n",
       " ['Bread', 'Pastry'],\n",
       " ['Coffee', 'Tea', 'Bread'],\n",
       " ['Jam'],\n",
       " ['Pastry', 'Medialuna', 'Medialuna'],\n",
       " ['Coffee'],\n",
       " ['Tea'],\n",
       " ['Bread'],\n",
       " ['Bread', 'Pastry'],\n",
       " ['Pastry'],\n",
       " ['Farm House'],\n",
       " ['Tea'],\n",
       " ['Coffee', 'Brownie', 'Alfajores', 'Fudge'],\n",
       " ['Bread', 'Fudge', 'Cookies'],\n",
       " ['Coffee'],\n",
       " ['Bread'],\n",
       " ['Coffee', 'Coffee', 'Jam', 'Pastry'],\n",
       " ['Soup', 'Coffee'],\n",
       " ['Smoothies', 'Soup', 'Hearty & Seasonal', 'Pastry'],\n",
       " ['Pastry', 'Bread'],\n",
       " ['Pastry', 'Medialuna'],\n",
       " ['Tea', 'Coffee'],\n",
       " ['Bread', 'Cookies'],\n",
       " ['Coffee',\n",
       "  'Coffee',\n",
       "  'Bread',\n",
       "  'Hearty & Seasonal',\n",
       "  'Pick and Mix Bowls',\n",
       "  'Sandwich',\n",
       "  'Focaccia'],\n",
       " ['Coffee'],\n",
       " ['Coffee', 'Sandwich', 'Brownie'],\n",
       " ['Brownie', 'Cookies'],\n",
       " ['Coffee'],\n",
       " ['Coffee'],\n",
       " ['Sandwich', 'Bread', 'Coffee'],\n",
       " ['Coffee', 'Hot chocolate'],\n",
       " ['Tea'],\n",
       " ['Sandwich', 'Coffee', 'Brownie'],\n",
       " ['Brownie', 'Pastry', 'Focaccia', 'Farm House'],\n",
       " ['Cake', 'Focaccia'],\n",
       " ['Soup', 'Hearty & Seasonal', 'Mineral water'],\n",
       " ['Hearty & Seasonal'],\n",
       " ['Hearty & Seasonal'],\n",
       " ['Coffee', 'Coffee', 'Pastry'],\n",
       " ['Coffee'],\n",
       " ['Tea', 'Cake'],\n",
       " ['Coffee', 'Soup'],\n",
       " ['Bread', 'Focaccia', 'Fudge'],\n",
       " ['Hot chocolate', 'Coffee', 'Alfajores'],\n",
       " ['Brownie', 'Pastry', 'Cake'],\n",
       " ['Medialuna', 'Alfajores', 'Dulce de Leche'],\n",
       " ['Dulce de Leche', 'Alfajores'],\n",
       " ['Bread', 'Cake'],\n",
       " ['Cake', 'Coffee'],\n",
       " ['Bread'],\n",
       " ['Sandwich'],\n",
       " ['Bread', 'Coffee', 'Alfajores', 'Medialuna'],\n",
       " ['Coffee'],\n",
       " ['Bread', 'Alfajores'],\n",
       " ['Tea', 'Coffee'],\n",
       " ['Bread'],\n",
       " ['Dulce de Leche'],\n",
       " ['Farm House'],\n",
       " ['Fudge'],\n",
       " ['Coffee'],\n",
       " ['Coffee', 'Alfajores', 'Juice', \"Ella's Kitchen Pouches\", 'Brownie'],\n",
       " ['Alfajores'],\n",
       " ['Alfajores', 'Brownie', 'Cookies', 'Bread', 'Juice'],\n",
       " ['Cake', 'Cookies'],\n",
       " ['Pick and Mix Bowls'],\n",
       " ['Coffee'],\n",
       " ['Farm House'],\n",
       " ['Tea'],\n",
       " ['Coffee'],\n",
       " ['Focaccia', 'Farm House'],\n",
       " ['Dulce de Leche'],\n",
       " ['Juice', 'My-5 Fruit Shoot', \"Ella's Kitchen Pouches\", 'Cookies'],\n",
       " ['Bread'],\n",
       " ['Hot chocolate'],\n",
       " ['Coffee'],\n",
       " ['Coffee'],\n",
       " ['Coffee'],\n",
       " ['Medialuna'],\n",
       " ['Bread', 'Tea', 'Jam'],\n",
       " ['Farm House'],\n",
       " ['Bread'],\n",
       " ['Coffee'],\n",
       " ['Medialuna', 'Coffee'],\n",
       " ['Bread'],\n",
       " ['Medialuna', 'Pastry', 'Medialuna'],\n",
       " ['Coffee', 'Coffee', 'Jam'],\n",
       " ['Bread', 'Coffee'],\n",
       " ['Coffee', 'Coffee'],\n",
       " ['Bread'],\n",
       " ['Hot chocolate'],\n",
       " ['Bread', 'Medialuna'],\n",
       " ['Bread', 'Jam'],\n",
       " ['Jam', 'Bread'],\n",
       " ['Coffee', 'Bread'],\n",
       " ['Bread', 'Farm House'],\n",
       " ['Bread', 'Coffee', 'Coffee'],\n",
       " ['Tea', 'Pastry'],\n",
       " ['Coffee', 'Coffee'],\n",
       " ['Bread'],\n",
       " ['Pastry', 'Brownie'],\n",
       " ['Farm House'],\n",
       " ['Coffee'],\n",
       " ['Tea', 'Coffee', 'Honey', 'Cookies'],\n",
       " ['Tea'],\n",
       " ['Bread'],\n",
       " ['Brownie'],\n",
       " ['Bread', 'Coffee'],\n",
       " ['Bread'],\n",
       " ['Coffee'],\n",
       " ['Tea', 'Tea'],\n",
       " ['Tea'],\n",
       " ['Coffee', 'Coffee'],\n",
       " ['Bread', 'Coffee'],\n",
       " ['Bread', 'Bread'],\n",
       " ['Bread', 'The BART'],\n",
       " ['Coffee', 'Brownie'],\n",
       " ['Coffee'],\n",
       " ['Coffee', 'Brownie'],\n",
       " ['Mineral water', 'Coffee', 'Coffee', 'Tartine'],\n",
       " ['Brownie', 'Coffee'],\n",
       " ['Brownie', 'Juice'],\n",
       " ['Coffee',\n",
       "  'Coffee',\n",
       "  'Bread',\n",
       "  'Tea',\n",
       "  'Alfajores',\n",
       "  'Medialuna',\n",
       "  'Pastry',\n",
       "  'Jam'],\n",
       " ['Bread'],\n",
       " ['Fudge', 'Fudge'],\n",
       " ['Coffee', 'Pick and Mix Bowls'],\n",
       " ['Pastry', 'Bread'],\n",
       " ['Soup', 'Scandinavian', 'Coffee', 'Mineral water'],\n",
       " ['Juice', 'Mineral water', 'Sandwich', 'Pick and Mix Bowls'],\n",
       " ['Bread', 'Pastry', 'Bread'],\n",
       " ['Hearty & Seasonal', 'Hearty & Seasonal', 'Coffee', 'Coffee'],\n",
       " ['Bread', 'Hearty & Seasonal', 'Coffee', 'Mineral water'],\n",
       " ['Coffee', 'Tartine', 'Sandwich', 'Brownie'],\n",
       " ['Coffee', 'Brownie'],\n",
       " ['Alfajores', 'Coffee', 'Tartine'],\n",
       " ['Mighty Protein', 'Coffee'],\n",
       " ['Coffee', 'Hot chocolate'],\n",
       " ['Soup', 'Jam', 'Coffee', 'Coffee'],\n",
       " ['Mineral water', 'Brownie'],\n",
       " ['Scandinavian', 'Coffee'],\n",
       " ['Scandinavian', 'Coffee'],\n",
       " ['Coffee', 'Coffee'],\n",
       " ['Coffee', 'Coffee', 'Hot chocolate', 'Brownie', 'Hearty & Seasonal'],\n",
       " ['Tea', 'Cake'],\n",
       " ['Medialuna'],\n",
       " ['Alfajores', 'Tea', 'Coffee'],\n",
       " ['Coffee', 'Juice', 'Brownie', 'Alfajores'],\n",
       " ['Coffee', 'Sandwich'],\n",
       " ['Bread', 'Soup'],\n",
       " ['Soup', 'Bread'],\n",
       " ['Bread'],\n",
       " ['Tea', 'Brownie', 'Cookies'],\n",
       " ['Coffee', 'Bread', 'Brownie'],\n",
       " ['Brownie'],\n",
       " ['Cookies', 'Bread', 'Jam'],\n",
       " ['Coffee'],\n",
       " ['Tea', 'Brownie', 'Tea'],\n",
       " ['Alfajores', 'Medialuna', 'Scandinavian'],\n",
       " ['Hot chocolate', 'Coffee', 'Alfajores', 'Cookies'],\n",
       " ['Brownie'],\n",
       " ['Fudge'],\n",
       " ['Tea', 'Brownie'],\n",
       " ['Dulce de Leche', 'Fudge'],\n",
       " ['Bread', 'Scandinavian', 'Fudge', 'Granola', 'Pastry', 'Coffee'],\n",
       " ['Bread', 'Fudge'],\n",
       " ['Hot chocolate', 'Coffee', 'Medialuna', 'Medialuna'],\n",
       " ['Bread'],\n",
       " ['Bread', 'Medialuna'],\n",
       " ['Bread', 'Coffee', 'Medialuna', 'Jam'],\n",
       " ['Jam', 'Coffee', 'Brownie'],\n",
       " ['Bread', 'Coffee', 'Jam'],\n",
       " ['Scandinavian'],\n",
       " ['Coffee', 'Cookies'],\n",
       " ['Coffee', 'Coffee', 'Scandinavian'],\n",
       " ['Bread'],\n",
       " ['Bread'],\n",
       " ['Jam', 'Brownie', 'Coffee', 'Coffee'],\n",
       " ['Coffee'],\n",
       " ['Brownie', 'Hot chocolate'],\n",
       " ['Bread'],\n",
       " ['Bread', 'Bread', 'Medialuna'],\n",
       " ['Coffee', 'Hot chocolate', 'Brownie'],\n",
       " ['Scandinavian'],\n",
       " ['Basket', 'Bread'],\n",
       " ['Coffee', 'Bread', 'Brownie'],\n",
       " ['Cake', 'Fudge'],\n",
       " ['Coffee', 'Hot chocolate', 'Coffee', 'Basket'],\n",
       " ['Scandinavian'],\n",
       " ['Scandinavian'],\n",
       " ['Coffee', 'Bread', 'Coffee', 'Cake', 'Medialuna'],\n",
       " ['Coffee', 'Coffee', 'Medialuna'],\n",
       " ['Bread', 'Pastry'],\n",
       " ['Bread', 'Brownie'],\n",
       " ['Medialuna', 'Farm House'],\n",
       " ['Bread', 'Medialuna'],\n",
       " ['Brownie', 'Medialuna', 'Hot chocolate', 'Smoothies', 'Coffee'],\n",
       " ['Bread', 'Tea', 'Coffee', 'Brownie', 'Medialuna'],\n",
       " ['Medialuna', 'Medialuna', 'Cookies'],\n",
       " ['Coffee', 'Medialuna'],\n",
       " ['Bread', 'Fudge'],\n",
       " ['Coffee', 'Tea'],\n",
       " ['Coffee', 'Cookies'],\n",
       " ['Pastry', 'Bread', 'Brownie'],\n",
       " ['Bread', 'Coffee', 'Bread'],\n",
       " ['Coffee', 'Coffee', 'Tea'],\n",
       " ['Bread'],\n",
       " ['Medialuna', 'Coffee'],\n",
       " ['My-5 Fruit Shoot', 'Coffee', 'Brownie'],\n",
       " ['Coffee', 'Fudge'],\n",
       " ['Coffee'],\n",
       " ['Coffee', 'Basket'],\n",
       " ['Farm House'],\n",
       " ['Farm House'],\n",
       " ['Coffee', 'Brownie'],\n",
       " ['Scandinavian', 'Brownie', 'My-5 Fruit Shoot'],\n",
       " ['Tartine', 'Coffee', 'Hot chocolate', 'Brownie'],\n",
       " ['Brownie', 'Bread', 'Hot chocolate'],\n",
       " ['Jam', 'Fudge'],\n",
       " ['Coffee'],\n",
       " ['Fudge'],\n",
       " ['Mighty Protein', 'Hearty & Seasonal', 'Coffee', 'Tea', 'Cake'],\n",
       " ['Coffee'],\n",
       " ['Scandinavian'],\n",
       " ['Cake', 'Victorian Sponge', 'Scandinavian'],\n",
       " ['Tea', 'Cake'],\n",
       " ['Coffee', 'Coffee'],\n",
       " ['Coffee', 'Coffee'],\n",
       " ['Bread'],\n",
       " ['Frittata'],\n",
       " ['Coffee', 'Coffee', 'My-5 Fruit Shoot', 'Brownie'],\n",
       " ['Focaccia', 'Fairy Doors'],\n",
       " ['Tea', 'Coffee', 'Coffee'],\n",
       " ['Hot chocolate', 'Hearty & Seasonal', 'Pick and Mix Bowls', 'Brownie'],\n",
       " ['Frittata', 'Coffee'],\n",
       " ['Bread', 'Brownie'],\n",
       " ['Frittata'],\n",
       " ['Scandinavian'],\n",
       " ['Bread'],\n",
       " ['Farm House'],\n",
       " ['Pick and Mix Bowls', 'Jam', 'Soup', 'Brownie'],\n",
       " ['Hearty & Seasonal', 'Coffee', 'Tea'],\n",
       " ['Bread'],\n",
       " ['Bread', 'Frittata'],\n",
       " ['Scandinavian'],\n",
       " ['Tartine', 'Hot chocolate', 'Coffee'],\n",
       " ['Coffee', 'Mighty Protein'],\n",
       " ['Frittata', 'Coffee'],\n",
       " ['Scandinavian'],\n",
       " ['Hearty & Seasonal', 'Coffee', 'Mineral water'],\n",
       " ['Scandinavian'],\n",
       " ['Bread', 'Coffee'],\n",
       " ['Hearty & Seasonal', 'Soup', 'Bread', 'Coffee'],\n",
       " ['Brownie', 'Cake', 'Tea'],\n",
       " ['Mighty Protein', 'Coffee'],\n",
       " ['Coffee', 'Tea', 'Brownie', 'Soup'],\n",
       " ['Cake'],\n",
       " ['Hot chocolate', 'Coffee', 'Cake'],\n",
       " ['Hearty & Seasonal', 'Coffee'],\n",
       " ['Coffee'],\n",
       " ['Frittata', 'Coffee', 'Brownie'],\n",
       " ['Sandwich', 'Frittata', 'Coke', 'Mineral water', 'Brownie'],\n",
       " ['Granola', 'Scandinavian'],\n",
       " ['Coffee', 'Coke', 'Coffee'],\n",
       " ['Tea', 'Tea', 'Brownie', 'Cake'],\n",
       " ['Fudge'],\n",
       " ['Coffee'],\n",
       " ['Brownie'],\n",
       " ['Cake'],\n",
       " ['Tea'],\n",
       " ['Coffee', 'Coffee', 'Coffee', 'Soup', 'Sandwich', 'Cake'],\n",
       " ['Coffee', 'Bread', 'Brownie'],\n",
       " ['Bread', 'Coffee', 'Brownie'],\n",
       " ['Coffee', 'Bread', 'Brownie'],\n",
       " ['Brownie', 'Coffee'],\n",
       " ['Coffee', 'Soup', 'Brownie'],\n",
       " ['Fudge'],\n",
       " ['Bread', 'Focaccia'],\n",
       " ['Bread', 'Farm House', 'Jam'],\n",
       " ['Hot chocolate', 'Brownie'],\n",
       " ['Hot chocolate'],\n",
       " ['Coffee', 'Brownie'],\n",
       " ['Medialuna', 'Pastry'],\n",
       " ['Bread'],\n",
       " ['Coffee', 'Pastry', 'Bread'],\n",
       " ['Coffee', 'Mineral water'],\n",
       " ['Pastry', 'Bread', 'Hot chocolate'],\n",
       " ['Bread'],\n",
       " ['Bread'],\n",
       " ['Jam', 'Coffee', 'Coffee', 'Bread'],\n",
       " ['Coffee', 'Coffee', 'Pastry'],\n",
       " ['Medialuna', 'Coffee', 'Coffee', 'Focaccia', 'Hearty & Seasonal'],\n",
       " ['Bread', 'Farm House', 'Coffee', 'Jam'],\n",
       " ['Farm House'],\n",
       " ['Coffee', 'Tea', 'Pastry', 'Medialuna'],\n",
       " ['Pastry', 'Medialuna', 'Coffee'],\n",
       " ['Coffee', 'Hot chocolate', 'Basket', 'Farm House'],\n",
       " ['Pastry', 'Farm House'],\n",
       " ['Hot chocolate', 'Coffee', 'My-5 Fruit Shoot'],\n",
       " ['Pastry', 'Medialuna', 'Muffin'],\n",
       " ['Farm House'],\n",
       " ['Muffin', 'Pastry', 'Focaccia'],\n",
       " ['Coffee', 'Tea'],\n",
       " ['Bread'],\n",
       " ['Focaccia'],\n",
       " ['Coffee', 'Hot chocolate', 'Pastry', 'Jam'],\n",
       " ['Bread'],\n",
       " ['Coffee', 'Pastry', 'Bread'],\n",
       " ['Tea'],\n",
       " ['Hot chocolate', 'Coffee', 'Mineral water'],\n",
       " ['Coffee', 'Coffee'],\n",
       " ['Coffee'],\n",
       " ['Jam', 'Coffee', 'Coffee'],\n",
       " ['Muffin'],\n",
       " ['Bread'],\n",
       " ['Bread'],\n",
       " ['Bread'],\n",
       " ['Muffin', 'Hot chocolate', 'Coffee'],\n",
       " ['Muffin', 'Fudge'],\n",
       " ['Bread'],\n",
       " ['Bread'],\n",
       " ['Farm House'],\n",
       " ['Coffee', 'Muffin'],\n",
       " ['Focaccia'],\n",
       " ['Bread', 'Tea'],\n",
       " ['Coffee', 'Hot chocolate'],\n",
       " ['Coffee', 'Tartine', 'Coffee', 'Pick and Mix Bowls', 'Jam'],\n",
       " ['Jam'],\n",
       " ['Tartine'],\n",
       " ['Bread', 'Coffee'],\n",
       " ['Coffee',\n",
       "  'Coffee',\n",
       "  'Mineral water',\n",
       "  'Juice',\n",
       "  'Tartine',\n",
       "  'Pick and Mix Bowls'],\n",
       " ['Bread', 'Tea', 'Juice'],\n",
       " ['Coffee', 'Coffee', 'Cake'],\n",
       " ['Farm House'],\n",
       " ['Farm House'],\n",
       " ['Cake', 'Brownie', 'Coffee', 'Coffee'],\n",
       " ['Focaccia', 'Coffee'],\n",
       " ['Tea', 'Coffee', 'Muffin'],\n",
       " ['Coffee'],\n",
       " ['Tea', 'Coffee'],\n",
       " ['Hearty & Seasonal', 'Cake', 'Coffee'],\n",
       " ['Bread', 'Tea', 'Cake'],\n",
       " ['Mighty Protein', 'Coffee'],\n",
       " ['Hot chocolate', 'Muffin'],\n",
       " ['Coffee', 'Coffee', 'Soup', 'Mighty Protein'],\n",
       " ['Jam'],\n",
       " ['Coffee', 'Alfajores'],\n",
       " ['Cake', 'Hot chocolate', 'Alfajores'],\n",
       " ['Hot chocolate', 'Tea', 'Muffin'],\n",
       " ['Brownie'],\n",
       " ['Cake', 'Coffee'],\n",
       " ['Victorian Sponge', 'Alfajores', 'Tea'],\n",
       " ['Bread'],\n",
       " ['Tartine', 'Tea', 'Tartine'],\n",
       " ['Mighty Protein', 'Tea'],\n",
       " ['Bread', 'Fudge'],\n",
       " ['Medialuna', 'Tartine', 'Coffee'],\n",
       " ['Pastry', 'Bread'],\n",
       " ['Pastry', 'Bread'],\n",
       " ['Coffee', 'Tea', 'Alfajores', 'Alfajores'],\n",
       " ['Alfajores', 'Alfajores', 'Coffee'],\n",
       " ['Coffee', 'Alfajores'],\n",
       " ['Alfajores', 'Pastry'],\n",
       " ['Alfajores'],\n",
       " ['Pastry', 'Tea', 'Alfajores', 'Hearty & Seasonal'],\n",
       " ['Tea', 'Sandwich'],\n",
       " ['Empanadas', 'Tea'],\n",
       " ['Alfajores', 'Alfajores', 'Tea'],\n",
       " ['Alfajores'],\n",
       " ['Pastry', 'Dulce de Leche'],\n",
       " ['Coffee', 'Pastry'],\n",
       " ['Farm House', 'Coffee'],\n",
       " ['Bread', 'Scandinavian', 'Medialuna'],\n",
       " ['Bread'],\n",
       " ['Pastry', 'Tea', 'Alfajores'],\n",
       " ['Pastry', 'Coffee'],\n",
       " ['Bread', 'Pastry', 'Muffin', 'Farm House'],\n",
       " ['Medialuna', 'Tea'],\n",
       " ['Alfajores'],\n",
       " ['Sandwich', 'Tea'],\n",
       " ['Tea', 'Bread'],\n",
       " ['Bread', 'Coffee', 'Pastry'],\n",
       " ['Coffee', 'Coffee', 'Muffin', 'Alfajores', 'Empanadas'],\n",
       " ['Coffee'],\n",
       " ['Bread'],\n",
       " ['Coffee'],\n",
       " ['Coffee'],\n",
       " ['Bread'],\n",
       " ['Bread', 'Pastry', 'Medialuna', 'Tea'],\n",
       " ['Tea', 'Bread'],\n",
       " ['Muffin'],\n",
       " ['Coffee', 'Muffin'],\n",
       " ['Coffee', 'Bread', 'Pastry', 'Medialuna'],\n",
       " ['Coffee', 'Coffee', 'Muffin'],\n",
       " ['Muffin', 'Hot chocolate', 'Scandinavian', 'Bread'],\n",
       " ['Farm House'],\n",
       " ['Muffin'],\n",
       " ['Coffee'],\n",
       " ['Bread'],\n",
       " ['Coffee', 'Coffee', 'Cookies'],\n",
       " ['Coffee', 'Coffee'],\n",
       " ['Muffin'],\n",
       " ['Coffee', 'Tea', 'Keeping It Local'],\n",
       " ['Coffee', 'Medialuna'],\n",
       " ['Bread'],\n",
       " ['Tartine', 'Scandinavian'],\n",
       " ['Coffee', 'Tea'],\n",
       " ['Bread'],\n",
       " ['Coffee', 'Coke'],\n",
       " ['Coffee', 'Muffin'],\n",
       " ['Coffee', 'Bread', 'Coffee', 'Medialuna', 'Muffin', 'Scandinavian'],\n",
       " ['Bread'],\n",
       " ['Coke'],\n",
       " ['Bread', 'Scandinavian'],\n",
       " ['Coffee'],\n",
       " ['Bread'],\n",
       " ['Scandinavian', 'Bread'],\n",
       " ['Fudge', 'Fudge'],\n",
       " ['Soup', 'Hearty & Seasonal', 'Coffee'],\n",
       " ['Coke'],\n",
       " ['Coffee', 'Cookies', 'Tea'],\n",
       " ['Pastry', 'Tea', 'Coffee'],\n",
       " ['Bread'],\n",
       " ['Coffee', 'Medialuna'],\n",
       " ['Coffee', 'Coffee', 'Muffin', 'Sandwich', 'Soup'],\n",
       " ['Tea', 'Coffee', 'Muffin'],\n",
       " ['Alfajores'],\n",
       " ['Bread'],\n",
       " ['Coffee', 'Medialuna'],\n",
       " ['Coffee'],\n",
       " ['Coffee'],\n",
       " ['Medialuna'],\n",
       " ['Empanadas', 'Bread', 'Scandinavian'],\n",
       " ['Coffee', 'Tartine'],\n",
       " ['Tea'],\n",
       " ['Scandinavian'],\n",
       " ['Muffin'],\n",
       " ['Scandinavian', 'Bread'],\n",
       " ['Bread'],\n",
       " ['Coffee'],\n",
       " ['Bread'],\n",
       " ['Bread'],\n",
       " ['Coffee', 'Coffee'],\n",
       " ['Cookies', 'Scandinavian'],\n",
       " ['Coffee', 'Bread', 'Empanadas', 'Medialuna'],\n",
       " ['Coffee', 'Pastry'],\n",
       " ['Bread'],\n",
       " ['Pastry', 'Tea'],\n",
       " ['Coffee', 'Coffee', 'Pastry'],\n",
       " ['Coffee', 'Bread'],\n",
       " ['Coffee', 'Keeping It Local'],\n",
       " ['Fudge'],\n",
       " ['Tartine', 'Coffee', 'Coffee'],\n",
       " ['Hot chocolate', 'Coffee', 'Pastry', 'Medialuna'],\n",
       " ['Alfajores', 'Coffee'],\n",
       " ['Coffee'],\n",
       " ['Coffee', 'Coffee', 'Medialuna'],\n",
       " ['Coke'],\n",
       " ['Coffee', 'Coffee', 'Alfajores'],\n",
       " ['Muffin'],\n",
       " ['Farm House', 'Brownie', 'Fudge'],\n",
       " ['Coffee', 'Coffee'],\n",
       " ['Tea', 'Muffin', 'Farm House'],\n",
       " ['Coffee', 'Pastry'],\n",
       " ['Pastry', 'Brownie'],\n",
       " ['Medialuna'],\n",
       " ['Coffee'],\n",
       " ['Pastry', 'Coffee', 'Juice'],\n",
       " ['Coffee', 'Bread'],\n",
       " ['Tea', 'Coffee'],\n",
       " ['Tea', 'Alfajores'],\n",
       " ['Alfajores', 'Coffee'],\n",
       " ['Scandinavian'],\n",
       " ['Pastry', 'Medialuna'],\n",
       " ['Brownie'],\n",
       " ['Farm House'],\n",
       " ['Coffee', 'Cookies'],\n",
       " ['Soup'],\n",
       " ['Art Tray', 'Coffee', 'Coffee', 'Brownie'],\n",
       " ['Coffee'],\n",
       " ['Farm House'],\n",
       " ['Soup', 'Art Tray', 'Alfajores', 'Frittata'],\n",
       " ['Sandwich', 'Coffee'],\n",
       " ['Tea'],\n",
       " ['Farm House'],\n",
       " ['Scandinavian', 'Muffin'],\n",
       " ['Farm House'],\n",
       " ['Scandinavian'],\n",
       " ['Soup'],\n",
       " ['Hearty & Seasonal', 'Tea', 'Bread'],\n",
       " ['Hot chocolate'],\n",
       " ['Coffee', 'Sandwich', 'Hearty & Seasonal'],\n",
       " ['Brownie', 'Hearty & Seasonal', 'Sandwich', 'Coffee'],\n",
       " ['Medialuna', 'Coffee'],\n",
       " ['Coffee', 'Brownie', 'Soup'],\n",
       " ['Sandwich', 'Sandwich', 'Alfajores', 'Alfajores', 'Focaccia'],\n",
       " ['Farm House', 'Tartine'],\n",
       " ['Bread'],\n",
       " ['Coffee'],\n",
       " ['Hot chocolate', 'Tea', 'Muffin'],\n",
       " ['Pastry'],\n",
       " ['Coffee', 'Brownie', 'Hearty & Seasonal', 'Soup', 'Bowl Nic Pitt'],\n",
       " ['Coffee'],\n",
       " ['Alfajores', 'Medialuna', 'Scandinavian', 'Farm House'],\n",
       " ['Soup', 'Coffee'],\n",
       " ['Tea', 'Tea'],\n",
       " ['Coffee', 'Tea', 'Cookies'],\n",
       " ['Tea', 'Muffin'],\n",
       " ['Coffee', 'Coffee', 'Brownie'],\n",
       " ['Coffee'],\n",
       " ['Coffee'],\n",
       " ['Coffee'],\n",
       " ['Farm House'],\n",
       " ['Coffee', 'Bread Pudding'],\n",
       " ['Coffee', 'Medialuna'],\n",
       " ['Hot chocolate'],\n",
       " ['Coffee', 'Hot chocolate', 'Farm House'],\n",
       " ['Pastry', 'Coffee'],\n",
       " ['Bread'],\n",
       " ['Pastry', 'Coffee'],\n",
       " ['Coffee', 'Coffee'],\n",
       " ['Coffee', 'Pastry'],\n",
       " ['Farm House'],\n",
       " ['Bread'],\n",
       " ['Coffee', 'Hot chocolate'],\n",
       " ['Bread'],\n",
       " ['Coffee', 'Focaccia', 'Coffee', 'Medialuna', 'Bread'],\n",
       " ['Coffee'],\n",
       " ['Bread', 'Keeping It Local'],\n",
       " ['Bread', 'Coffee'],\n",
       " ['Bread'],\n",
       " ['Bread', 'Medialuna'],\n",
       " ['Coffee'],\n",
       " ['Coffee', 'Coffee', 'Medialuna'],\n",
       " ['Coffee', 'Cookies', 'Tartine'],\n",
       " ['Tea', 'Bread'],\n",
       " ['Bread', 'Keeping It Local', 'Coffee'],\n",
       " ['Coffee', 'Medialuna'],\n",
       " ['Coffee', 'Medialuna'],\n",
       " ['Tea'],\n",
       " ['Juice', 'Coke', 'Soup'],\n",
       " ['Bread'],\n",
       " ['Brownie'],\n",
       " ['Brownie', 'Bread', 'Coffee'],\n",
       " ['Coffee', 'Pastry', 'Bread', 'Hearty & Seasonal'],\n",
       " ['Bread', 'Coffee', 'Brownie'],\n",
       " ['Coffee'],\n",
       " ['Bread', 'Cookies'],\n",
       " ['Fudge', 'Eggs'],\n",
       " ['Bread'],\n",
       " ['Bread', 'Muffin'],\n",
       " ['Soup'],\n",
       " ['Coffee', 'Bread Pudding'],\n",
       " ['Bread', 'Tartine'],\n",
       " ['Sandwich', 'Coffee', 'Fudge', 'Jam', 'Bread Pudding'],\n",
       " ['Bread Pudding', 'Soup', 'Coffee'],\n",
       " ['Hearty & Seasonal', 'Bread'],\n",
       " ['Coffee', 'Coffee', 'Cookies'],\n",
       " ['Coffee'],\n",
       " ['Bread'],\n",
       " ['Coffee', 'Bread', 'Soup'],\n",
       " ['Soup', 'Tea', 'Focaccia'],\n",
       " ['Coffee', 'My-5 Fruit Shoot', 'Cookies'],\n",
       " ['Coffee', 'Coffee'],\n",
       " ['Coffee', 'Sandwich', 'Tea'],\n",
       " ['Scandinavian'],\n",
       " ['Adjustment'],\n",
       " ['Coffee'],\n",
       " ['Medialuna', 'Coffee'],\n",
       " ['Bread'],\n",
       " ['Bread'],\n",
       " ['Coffee', 'Pastry'],\n",
       " ['Farm House'],\n",
       " ['Medialuna', 'Brownie'],\n",
       " ['Bread', 'Pastry', 'Brownie'],\n",
       " ['Pastry', 'Bread', 'Cookies'],\n",
       " ['Bread', 'Bread'],\n",
       " ['Cookies', 'Pastry', 'Coffee', 'Juice'],\n",
       " ['Pastry', 'Cookies', 'Coffee'],\n",
       " ['Coffee', 'Medialuna'],\n",
       " ['Bread'],\n",
       " ['Tartine', 'Coffee'],\n",
       " ['Coffee', 'Medialuna'],\n",
       " ['Bread'],\n",
       " ['Bread', 'Coffee', 'Alfajores', 'Cookies'],\n",
       " ['Bread', 'Coffee', 'Coffee'],\n",
       " ['Bread'],\n",
       " ['Bread', 'Coffee', 'Tea', 'Keeping It Local', 'Jam', 'Cookies'],\n",
       " ['Pastry', 'Coffee', 'Juice'],\n",
       " ['Medialuna', 'Bread', 'Focaccia'],\n",
       " ['Pastry', 'Medialuna', 'Coffee'],\n",
       " ['Coffee'],\n",
       " ['Coffee'],\n",
       " ['Coffee', 'Cookies', 'Truffles', 'Brownie', 'Bread'],\n",
       " ['Art Tray', 'Tea'],\n",
       " ['Bread'],\n",
       " ['Coffee'],\n",
       " ['Coffee', 'Cookies'],\n",
       " ['Brownie'],\n",
       " ['Bread', 'Tea', 'Empanadas'],\n",
       " ['Bread', 'Hot chocolate'],\n",
       " ['Coffee', 'Cookies'],\n",
       " ['Bread'],\n",
       " ['Tartine', 'Sandwich', 'Tea', 'Bread'],\n",
       " ['Soup', 'Sandwich', 'Bread'],\n",
       " ['Soup', 'Bread'],\n",
       " ['Fudge'],\n",
       " ['Coffee'],\n",
       " ['Coffee', 'Empanadas', 'Soup'],\n",
       " ['Bread', 'Coffee', 'Brownie'],\n",
       " ['Coffee', 'Smoothies', 'Juice', 'Soup', 'Hearty & Seasonal'],\n",
       " ['Alfajores',\n",
       "  'Sandwich',\n",
       "  'Hot chocolate',\n",
       "  'Coffee',\n",
       "  'Scandinavian',\n",
       "  'Cookies'],\n",
       " ['Tea', 'Coffee'],\n",
       " ['Bread', 'Cookies'],\n",
       " ['Alfajores', 'Cookies', 'Bread', 'Bread'],\n",
       " ['Tea', 'Brownie'],\n",
       " ['Tea', 'Bread'],\n",
       " ['Coffee', 'Alfajores'],\n",
       " ['Bread'],\n",
       " ['Empanadas', 'Coffee'],\n",
       " ['Bread'],\n",
       " ['Coffee', 'Hot chocolate'],\n",
       " ['Coffee'],\n",
       " ['Coffee', 'Brownie'],\n",
       " ['Tea', 'Hot chocolate', 'Brownie', 'Truffles'],\n",
       " ['Coffee', 'Keeping It Local'],\n",
       " ['Coffee'],\n",
       " ['Alfajores'],\n",
       " ['Scandinavian', 'Chimichurri Oil'],\n",
       " ['Bread', 'Truffles'],\n",
       " ['Brownie', 'Focaccia'],\n",
       " ['Coffee', 'Bread'],\n",
       " ['Coffee', 'Tea', 'Art Tray', 'Cookies'],\n",
       " ['Coffee'],\n",
       " ['Bread'],\n",
       " ['Coffee', 'Alfajores', 'Alfajores', 'Coke'],\n",
       " ['Bread'],\n",
       " ['Bread'],\n",
       " ['Bread', 'Pastry', 'Medialuna', 'Coffee'],\n",
       " ['Coffee'],\n",
       " ['Bread', 'Keeping It Local'],\n",
       " ['Bread'],\n",
       " ['Coffee', 'Scandinavian'],\n",
       " ['Bread', 'Farm House', 'Pastry', 'Medialuna'],\n",
       " ['Medialuna'],\n",
       " ['Coffee'],\n",
       " ['Bread', 'Farm House'],\n",
       " ['Bread'],\n",
       " ['Keeping It Local', 'Bread'],\n",
       " ...]"
      ]
     },
     "execution_count": 24,
     "metadata": {},
     "output_type": "execute_result"
    }
   ],
   "source": [
    "items_list = [item.split(',') for item in df_associa1['Items']]\n",
    "items_list"
   ]
  },
  {
   "cell_type": "code",
   "execution_count": 25,
   "id": "e522b905",
   "metadata": {},
   "outputs": [
    {
     "data": {
      "text/html": [
       "<div>\n",
       "<style scoped>\n",
       "    .dataframe tbody tr th:only-of-type {\n",
       "        vertical-align: middle;\n",
       "    }\n",
       "\n",
       "    .dataframe tbody tr th {\n",
       "        vertical-align: top;\n",
       "    }\n",
       "\n",
       "    .dataframe thead th {\n",
       "        text-align: right;\n",
       "    }\n",
       "</style>\n",
       "<table border=\"1\" class=\"dataframe\">\n",
       "  <thead>\n",
       "    <tr style=\"text-align: right;\">\n",
       "      <th></th>\n",
       "      <th>transactions</th>\n",
       "    </tr>\n",
       "  </thead>\n",
       "  <tbody>\n",
       "    <tr>\n",
       "      <th>0</th>\n",
       "      <td>[Bread]</td>\n",
       "    </tr>\n",
       "    <tr>\n",
       "      <th>1</th>\n",
       "      <td>[Scandinavian, Scandinavian]</td>\n",
       "    </tr>\n",
       "    <tr>\n",
       "      <th>2</th>\n",
       "      <td>[Hot chocolate, Jam, Cookies]</td>\n",
       "    </tr>\n",
       "    <tr>\n",
       "      <th>3</th>\n",
       "      <td>[Muffin]</td>\n",
       "    </tr>\n",
       "    <tr>\n",
       "      <th>4</th>\n",
       "      <td>[Coffee, Pastry, Bread]</td>\n",
       "    </tr>\n",
       "    <tr>\n",
       "      <th>...</th>\n",
       "      <td>...</td>\n",
       "    </tr>\n",
       "    <tr>\n",
       "      <th>9460</th>\n",
       "      <td>[Bread]</td>\n",
       "    </tr>\n",
       "    <tr>\n",
       "      <th>9461</th>\n",
       "      <td>[Truffles, Tea, Spanish Brunch, Christmas common]</td>\n",
       "    </tr>\n",
       "    <tr>\n",
       "      <th>9462</th>\n",
       "      <td>[Muffin, Tacos/Fajita, Coffee, Tea]</td>\n",
       "    </tr>\n",
       "    <tr>\n",
       "      <th>9463</th>\n",
       "      <td>[Coffee, Pastry]</td>\n",
       "    </tr>\n",
       "    <tr>\n",
       "      <th>9464</th>\n",
       "      <td>[Smoothies]</td>\n",
       "    </tr>\n",
       "  </tbody>\n",
       "</table>\n",
       "<p>9465 rows × 1 columns</p>\n",
       "</div>"
      ],
      "text/plain": [
       "                                           transactions\n",
       "0                                               [Bread]\n",
       "1                          [Scandinavian, Scandinavian]\n",
       "2                         [Hot chocolate, Jam, Cookies]\n",
       "3                                              [Muffin]\n",
       "4                               [Coffee, Pastry, Bread]\n",
       "...                                                 ...\n",
       "9460                                            [Bread]\n",
       "9461  [Truffles, Tea, Spanish Brunch, Christmas common]\n",
       "9462                [Muffin, Tacos/Fajita, Coffee, Tea]\n",
       "9463                                   [Coffee, Pastry]\n",
       "9464                                        [Smoothies]\n",
       "\n",
       "[9465 rows x 1 columns]"
      ]
     },
     "execution_count": 25,
     "metadata": {},
     "output_type": "execute_result"
    }
   ],
   "source": [
    "items_series = pd.DataFrame(pd.Series(items_list))\n",
    "items_series.columns = [\"transactions\"]\n",
    "items_series"
   ]
  },
  {
   "cell_type": "code",
   "execution_count": 28,
   "id": "e1981e8b",
   "metadata": {},
   "outputs": [
    {
     "name": "stderr",
     "output_type": "stream",
     "text": [
      "C:\\Users\\sachi\\AppData\\Roaming\\Python\\Python39\\site-packages\\mlxtend\\frequent_patterns\\fpcommon.py:111: DeprecationWarning:\n",
      "\n",
      "DataFrames with non-bool types result in worse computationalperformance and their support might be discontinued in the future.Please use a DataFrame with bool type\n",
      "\n"
     ]
    },
    {
     "data": {
      "text/html": [
       "<div>\n",
       "<style scoped>\n",
       "    .dataframe tbody tr th:only-of-type {\n",
       "        vertical-align: middle;\n",
       "    }\n",
       "\n",
       "    .dataframe tbody tr th {\n",
       "        vertical-align: top;\n",
       "    }\n",
       "\n",
       "    .dataframe thead th {\n",
       "        text-align: right;\n",
       "    }\n",
       "</style>\n",
       "<table border=\"1\" class=\"dataframe\">\n",
       "  <thead>\n",
       "    <tr style=\"text-align: right;\">\n",
       "      <th></th>\n",
       "      <th>Adjustment</th>\n",
       "      <th>Afternoon with the baker</th>\n",
       "      <th>Alfajores</th>\n",
       "      <th>Argentina Night</th>\n",
       "      <th>Art Tray</th>\n",
       "      <th>Bacon</th>\n",
       "      <th>Baguette</th>\n",
       "      <th>Bakewell</th>\n",
       "      <th>Bare Popcorn</th>\n",
       "      <th>Basket</th>\n",
       "      <th>...</th>\n",
       "      <th>The BART</th>\n",
       "      <th>The Nomad</th>\n",
       "      <th>Tiffin</th>\n",
       "      <th>Toast</th>\n",
       "      <th>Truffles</th>\n",
       "      <th>Tshirt</th>\n",
       "      <th>Valentine's card</th>\n",
       "      <th>Vegan Feast</th>\n",
       "      <th>Vegan mincepie</th>\n",
       "      <th>Victorian Sponge</th>\n",
       "    </tr>\n",
       "  </thead>\n",
       "  <tbody>\n",
       "    <tr>\n",
       "      <th>0</th>\n",
       "      <td>0</td>\n",
       "      <td>0</td>\n",
       "      <td>0</td>\n",
       "      <td>0</td>\n",
       "      <td>0</td>\n",
       "      <td>0</td>\n",
       "      <td>0</td>\n",
       "      <td>0</td>\n",
       "      <td>0</td>\n",
       "      <td>0</td>\n",
       "      <td>...</td>\n",
       "      <td>0</td>\n",
       "      <td>0</td>\n",
       "      <td>0</td>\n",
       "      <td>0</td>\n",
       "      <td>0</td>\n",
       "      <td>0</td>\n",
       "      <td>0</td>\n",
       "      <td>0</td>\n",
       "      <td>0</td>\n",
       "      <td>0</td>\n",
       "    </tr>\n",
       "    <tr>\n",
       "      <th>1</th>\n",
       "      <td>0</td>\n",
       "      <td>0</td>\n",
       "      <td>0</td>\n",
       "      <td>0</td>\n",
       "      <td>0</td>\n",
       "      <td>0</td>\n",
       "      <td>0</td>\n",
       "      <td>0</td>\n",
       "      <td>0</td>\n",
       "      <td>0</td>\n",
       "      <td>...</td>\n",
       "      <td>0</td>\n",
       "      <td>0</td>\n",
       "      <td>0</td>\n",
       "      <td>0</td>\n",
       "      <td>0</td>\n",
       "      <td>0</td>\n",
       "      <td>0</td>\n",
       "      <td>0</td>\n",
       "      <td>0</td>\n",
       "      <td>0</td>\n",
       "    </tr>\n",
       "    <tr>\n",
       "      <th>2</th>\n",
       "      <td>0</td>\n",
       "      <td>0</td>\n",
       "      <td>0</td>\n",
       "      <td>0</td>\n",
       "      <td>0</td>\n",
       "      <td>0</td>\n",
       "      <td>0</td>\n",
       "      <td>0</td>\n",
       "      <td>0</td>\n",
       "      <td>0</td>\n",
       "      <td>...</td>\n",
       "      <td>0</td>\n",
       "      <td>0</td>\n",
       "      <td>0</td>\n",
       "      <td>0</td>\n",
       "      <td>0</td>\n",
       "      <td>0</td>\n",
       "      <td>0</td>\n",
       "      <td>0</td>\n",
       "      <td>0</td>\n",
       "      <td>0</td>\n",
       "    </tr>\n",
       "    <tr>\n",
       "      <th>3</th>\n",
       "      <td>0</td>\n",
       "      <td>0</td>\n",
       "      <td>0</td>\n",
       "      <td>0</td>\n",
       "      <td>0</td>\n",
       "      <td>0</td>\n",
       "      <td>0</td>\n",
       "      <td>0</td>\n",
       "      <td>0</td>\n",
       "      <td>0</td>\n",
       "      <td>...</td>\n",
       "      <td>0</td>\n",
       "      <td>0</td>\n",
       "      <td>0</td>\n",
       "      <td>0</td>\n",
       "      <td>0</td>\n",
       "      <td>0</td>\n",
       "      <td>0</td>\n",
       "      <td>0</td>\n",
       "      <td>0</td>\n",
       "      <td>0</td>\n",
       "    </tr>\n",
       "    <tr>\n",
       "      <th>4</th>\n",
       "      <td>0</td>\n",
       "      <td>0</td>\n",
       "      <td>0</td>\n",
       "      <td>0</td>\n",
       "      <td>0</td>\n",
       "      <td>0</td>\n",
       "      <td>0</td>\n",
       "      <td>0</td>\n",
       "      <td>0</td>\n",
       "      <td>0</td>\n",
       "      <td>...</td>\n",
       "      <td>0</td>\n",
       "      <td>0</td>\n",
       "      <td>0</td>\n",
       "      <td>0</td>\n",
       "      <td>0</td>\n",
       "      <td>0</td>\n",
       "      <td>0</td>\n",
       "      <td>0</td>\n",
       "      <td>0</td>\n",
       "      <td>0</td>\n",
       "    </tr>\n",
       "    <tr>\n",
       "      <th>...</th>\n",
       "      <td>...</td>\n",
       "      <td>...</td>\n",
       "      <td>...</td>\n",
       "      <td>...</td>\n",
       "      <td>...</td>\n",
       "      <td>...</td>\n",
       "      <td>...</td>\n",
       "      <td>...</td>\n",
       "      <td>...</td>\n",
       "      <td>...</td>\n",
       "      <td>...</td>\n",
       "      <td>...</td>\n",
       "      <td>...</td>\n",
       "      <td>...</td>\n",
       "      <td>...</td>\n",
       "      <td>...</td>\n",
       "      <td>...</td>\n",
       "      <td>...</td>\n",
       "      <td>...</td>\n",
       "      <td>...</td>\n",
       "      <td>...</td>\n",
       "    </tr>\n",
       "    <tr>\n",
       "      <th>9460</th>\n",
       "      <td>0</td>\n",
       "      <td>0</td>\n",
       "      <td>0</td>\n",
       "      <td>0</td>\n",
       "      <td>0</td>\n",
       "      <td>0</td>\n",
       "      <td>0</td>\n",
       "      <td>0</td>\n",
       "      <td>0</td>\n",
       "      <td>0</td>\n",
       "      <td>...</td>\n",
       "      <td>0</td>\n",
       "      <td>0</td>\n",
       "      <td>0</td>\n",
       "      <td>0</td>\n",
       "      <td>0</td>\n",
       "      <td>0</td>\n",
       "      <td>0</td>\n",
       "      <td>0</td>\n",
       "      <td>0</td>\n",
       "      <td>0</td>\n",
       "    </tr>\n",
       "    <tr>\n",
       "      <th>9461</th>\n",
       "      <td>0</td>\n",
       "      <td>0</td>\n",
       "      <td>0</td>\n",
       "      <td>0</td>\n",
       "      <td>0</td>\n",
       "      <td>0</td>\n",
       "      <td>0</td>\n",
       "      <td>0</td>\n",
       "      <td>0</td>\n",
       "      <td>0</td>\n",
       "      <td>...</td>\n",
       "      <td>0</td>\n",
       "      <td>0</td>\n",
       "      <td>0</td>\n",
       "      <td>0</td>\n",
       "      <td>1</td>\n",
       "      <td>0</td>\n",
       "      <td>0</td>\n",
       "      <td>0</td>\n",
       "      <td>0</td>\n",
       "      <td>0</td>\n",
       "    </tr>\n",
       "    <tr>\n",
       "      <th>9462</th>\n",
       "      <td>0</td>\n",
       "      <td>0</td>\n",
       "      <td>0</td>\n",
       "      <td>0</td>\n",
       "      <td>0</td>\n",
       "      <td>0</td>\n",
       "      <td>0</td>\n",
       "      <td>0</td>\n",
       "      <td>0</td>\n",
       "      <td>0</td>\n",
       "      <td>...</td>\n",
       "      <td>0</td>\n",
       "      <td>0</td>\n",
       "      <td>0</td>\n",
       "      <td>0</td>\n",
       "      <td>0</td>\n",
       "      <td>0</td>\n",
       "      <td>0</td>\n",
       "      <td>0</td>\n",
       "      <td>0</td>\n",
       "      <td>0</td>\n",
       "    </tr>\n",
       "    <tr>\n",
       "      <th>9463</th>\n",
       "      <td>0</td>\n",
       "      <td>0</td>\n",
       "      <td>0</td>\n",
       "      <td>0</td>\n",
       "      <td>0</td>\n",
       "      <td>0</td>\n",
       "      <td>0</td>\n",
       "      <td>0</td>\n",
       "      <td>0</td>\n",
       "      <td>0</td>\n",
       "      <td>...</td>\n",
       "      <td>0</td>\n",
       "      <td>0</td>\n",
       "      <td>0</td>\n",
       "      <td>0</td>\n",
       "      <td>0</td>\n",
       "      <td>0</td>\n",
       "      <td>0</td>\n",
       "      <td>0</td>\n",
       "      <td>0</td>\n",
       "      <td>0</td>\n",
       "    </tr>\n",
       "    <tr>\n",
       "      <th>9464</th>\n",
       "      <td>0</td>\n",
       "      <td>0</td>\n",
       "      <td>0</td>\n",
       "      <td>0</td>\n",
       "      <td>0</td>\n",
       "      <td>0</td>\n",
       "      <td>0</td>\n",
       "      <td>0</td>\n",
       "      <td>0</td>\n",
       "      <td>0</td>\n",
       "      <td>...</td>\n",
       "      <td>0</td>\n",
       "      <td>0</td>\n",
       "      <td>0</td>\n",
       "      <td>0</td>\n",
       "      <td>0</td>\n",
       "      <td>0</td>\n",
       "      <td>0</td>\n",
       "      <td>0</td>\n",
       "      <td>0</td>\n",
       "      <td>0</td>\n",
       "    </tr>\n",
       "  </tbody>\n",
       "</table>\n",
       "<p>9465 rows × 94 columns</p>\n",
       "</div>"
      ],
      "text/plain": [
       "      Adjustment  Afternoon with the baker  Alfajores  Argentina Night  \\\n",
       "0              0                         0          0                0   \n",
       "1              0                         0          0                0   \n",
       "2              0                         0          0                0   \n",
       "3              0                         0          0                0   \n",
       "4              0                         0          0                0   \n",
       "...          ...                       ...        ...              ...   \n",
       "9460           0                         0          0                0   \n",
       "9461           0                         0          0                0   \n",
       "9462           0                         0          0                0   \n",
       "9463           0                         0          0                0   \n",
       "9464           0                         0          0                0   \n",
       "\n",
       "      Art Tray  Bacon  Baguette  Bakewell  Bare Popcorn  Basket  ...  \\\n",
       "0            0      0         0         0             0       0  ...   \n",
       "1            0      0         0         0             0       0  ...   \n",
       "2            0      0         0         0             0       0  ...   \n",
       "3            0      0         0         0             0       0  ...   \n",
       "4            0      0         0         0             0       0  ...   \n",
       "...        ...    ...       ...       ...           ...     ...  ...   \n",
       "9460         0      0         0         0             0       0  ...   \n",
       "9461         0      0         0         0             0       0  ...   \n",
       "9462         0      0         0         0             0       0  ...   \n",
       "9463         0      0         0         0             0       0  ...   \n",
       "9464         0      0         0         0             0       0  ...   \n",
       "\n",
       "      The BART  The Nomad  Tiffin  Toast  Truffles  Tshirt  Valentine's card  \\\n",
       "0            0          0       0      0         0       0                 0   \n",
       "1            0          0       0      0         0       0                 0   \n",
       "2            0          0       0      0         0       0                 0   \n",
       "3            0          0       0      0         0       0                 0   \n",
       "4            0          0       0      0         0       0                 0   \n",
       "...        ...        ...     ...    ...       ...     ...               ...   \n",
       "9460         0          0       0      0         0       0                 0   \n",
       "9461         0          0       0      0         1       0                 0   \n",
       "9462         0          0       0      0         0       0                 0   \n",
       "9463         0          0       0      0         0       0                 0   \n",
       "9464         0          0       0      0         0       0                 0   \n",
       "\n",
       "      Vegan Feast  Vegan mincepie  Victorian Sponge  \n",
       "0               0               0                 0  \n",
       "1               0               0                 0  \n",
       "2               0               0                 0  \n",
       "3               0               0                 0  \n",
       "4               0               0                 0  \n",
       "...           ...             ...               ...  \n",
       "9460            0               0                 0  \n",
       "9461            0               0                 0  \n",
       "9462            0               0                 0  \n",
       "9463            0               0                 0  \n",
       "9464            0               0                 0  \n",
       "\n",
       "[9465 rows x 94 columns]"
      ]
     },
     "execution_count": 28,
     "metadata": {},
     "output_type": "execute_result"
    }
   ],
   "source": [
    "from mlxtend.preprocessing import TransactionEncoder\n",
    "from mlxtend.frequent_patterns import association_rules, apriori\n",
    "\n",
    "X = items_series['transactions'].str.join(sep = '*').str.get_dummies(sep = '*')\n",
    "X.shape\n",
    "frequent_itemsets = apriori(X, min_support = 0.0075, max_len = 4, use_colnames =\n",
    " True)\n",
    "X"
   ]
  },
  {
   "cell_type": "code",
   "execution_count": 29,
   "id": "0d1d4d9d",
   "metadata": {},
   "outputs": [
    {
     "data": {
      "image/png": "[encoded data removed]",
      "text/plain": [
       "<Figure size 432x288 with 1 Axes>"
      ]
     },
     "metadata": {
      "needs_background": "light"
     },
     "output_type": "display_data"
    }
   ],
   "source": [
    "frequent_itemsets.sort_values('support', ascending = False, inplace = True)\n",
    "\n",
    "plt.bar(x = list(range(0, 11)), height = frequent_itemsets.support[0:11])\n",
    "plt.xticks(list(range(0, 11)), frequent_itemsets.itemsets[0:11], rotation=45)\n",
    "plt.xlabel('item-sets')\n",
    "plt.ylabel('support')\n",
    "plt.show()\n"
   ]
  },
  {
   "cell_type": "code",
   "execution_count": 30,
   "id": "75936a28",
   "metadata": {},
   "outputs": [
    {
     "data": {
      "text/html": [
       "<div>\n",
       "<style scoped>\n",
       "    .dataframe tbody tr th:only-of-type {\n",
       "        vertical-align: middle;\n",
       "    }\n",
       "\n",
       "    .dataframe tbody tr th {\n",
       "        vertical-align: top;\n",
       "    }\n",
       "\n",
       "    .dataframe thead th {\n",
       "        text-align: right;\n",
       "    }\n",
       "</style>\n",
       "<table border=\"1\" class=\"dataframe\">\n",
       "  <thead>\n",
       "    <tr style=\"text-align: right;\">\n",
       "      <th></th>\n",
       "      <th>antecedents</th>\n",
       "      <th>consequents</th>\n",
       "      <th>antecedent support</th>\n",
       "      <th>consequent support</th>\n",
       "      <th>support</th>\n",
       "      <th>confidence</th>\n",
       "      <th>lift</th>\n",
       "      <th>leverage</th>\n",
       "      <th>conviction</th>\n",
       "    </tr>\n",
       "  </thead>\n",
       "  <tbody>\n",
       "    <tr>\n",
       "      <th>36</th>\n",
       "      <td>(Tea, Coffee)</td>\n",
       "      <td>(Cake)</td>\n",
       "      <td>0.049868</td>\n",
       "      <td>0.103856</td>\n",
       "      <td>0.010037</td>\n",
       "      <td>0.201271</td>\n",
       "      <td>1.937977</td>\n",
       "      <td>0.004858</td>\n",
       "      <td>1.121962</td>\n",
       "    </tr>\n",
       "    <tr>\n",
       "      <th>39</th>\n",
       "      <td>(Cake)</td>\n",
       "      <td>(Tea, Coffee)</td>\n",
       "      <td>0.103856</td>\n",
       "      <td>0.049868</td>\n",
       "      <td>0.010037</td>\n",
       "      <td>0.096643</td>\n",
       "      <td>1.937977</td>\n",
       "      <td>0.004858</td>\n",
       "      <td>1.051779</td>\n",
       "    </tr>\n",
       "    <tr>\n",
       "      <th>31</th>\n",
       "      <td>(Cake)</td>\n",
       "      <td>(Hot chocolate)</td>\n",
       "      <td>0.103856</td>\n",
       "      <td>0.058320</td>\n",
       "      <td>0.011410</td>\n",
       "      <td>0.109868</td>\n",
       "      <td>1.883874</td>\n",
       "      <td>0.005354</td>\n",
       "      <td>1.057910</td>\n",
       "    </tr>\n",
       "    <tr>\n",
       "      <th>30</th>\n",
       "      <td>(Hot chocolate)</td>\n",
       "      <td>(Cake)</td>\n",
       "      <td>0.058320</td>\n",
       "      <td>0.103856</td>\n",
       "      <td>0.011410</td>\n",
       "      <td>0.195652</td>\n",
       "      <td>1.883874</td>\n",
       "      <td>0.005354</td>\n",
       "      <td>1.114125</td>\n",
       "    </tr>\n",
       "    <tr>\n",
       "      <th>47</th>\n",
       "      <td>(Tea)</td>\n",
       "      <td>(Soup)</td>\n",
       "      <td>0.142631</td>\n",
       "      <td>0.034443</td>\n",
       "      <td>0.009086</td>\n",
       "      <td>0.063704</td>\n",
       "      <td>1.849557</td>\n",
       "      <td>0.004174</td>\n",
       "      <td>1.031252</td>\n",
       "    </tr>\n",
       "    <tr>\n",
       "      <th>46</th>\n",
       "      <td>(Soup)</td>\n",
       "      <td>(Tea)</td>\n",
       "      <td>0.034443</td>\n",
       "      <td>0.142631</td>\n",
       "      <td>0.009086</td>\n",
       "      <td>0.263804</td>\n",
       "      <td>1.849557</td>\n",
       "      <td>0.004174</td>\n",
       "      <td>1.164593</td>\n",
       "    </tr>\n",
       "    <tr>\n",
       "      <th>45</th>\n",
       "      <td>(Pastry)</td>\n",
       "      <td>(Medialuna)</td>\n",
       "      <td>0.086107</td>\n",
       "      <td>0.061807</td>\n",
       "      <td>0.009192</td>\n",
       "      <td>0.106748</td>\n",
       "      <td>1.727135</td>\n",
       "      <td>0.003870</td>\n",
       "      <td>1.050313</td>\n",
       "    </tr>\n",
       "    <tr>\n",
       "      <th>44</th>\n",
       "      <td>(Medialuna)</td>\n",
       "      <td>(Pastry)</td>\n",
       "      <td>0.061807</td>\n",
       "      <td>0.086107</td>\n",
       "      <td>0.009192</td>\n",
       "      <td>0.148718</td>\n",
       "      <td>1.727135</td>\n",
       "      <td>0.003870</td>\n",
       "      <td>1.073549</td>\n",
       "    </tr>\n",
       "    <tr>\n",
       "      <th>50</th>\n",
       "      <td>(Scone)</td>\n",
       "      <td>(Tea)</td>\n",
       "      <td>0.034548</td>\n",
       "      <td>0.142631</td>\n",
       "      <td>0.008347</td>\n",
       "      <td>0.241590</td>\n",
       "      <td>1.693816</td>\n",
       "      <td>0.003419</td>\n",
       "      <td>1.130483</td>\n",
       "    </tr>\n",
       "    <tr>\n",
       "      <th>51</th>\n",
       "      <td>(Tea)</td>\n",
       "      <td>(Scone)</td>\n",
       "      <td>0.142631</td>\n",
       "      <td>0.034548</td>\n",
       "      <td>0.008347</td>\n",
       "      <td>0.058519</td>\n",
       "      <td>1.693816</td>\n",
       "      <td>0.003419</td>\n",
       "      <td>1.025460</td>\n",
       "    </tr>\n",
       "  </tbody>\n",
       "</table>\n",
       "</div>"
      ],
      "text/plain": [
       "        antecedents      consequents  antecedent support  consequent support  \\\n",
       "36    (Tea, Coffee)           (Cake)            0.049868            0.103856   \n",
       "39           (Cake)    (Tea, Coffee)            0.103856            0.049868   \n",
       "31           (Cake)  (Hot chocolate)            0.103856            0.058320   \n",
       "30  (Hot chocolate)           (Cake)            0.058320            0.103856   \n",
       "47            (Tea)           (Soup)            0.142631            0.034443   \n",
       "46           (Soup)            (Tea)            0.034443            0.142631   \n",
       "45         (Pastry)      (Medialuna)            0.086107            0.061807   \n",
       "44      (Medialuna)         (Pastry)            0.061807            0.086107   \n",
       "50          (Scone)            (Tea)            0.034548            0.142631   \n",
       "51            (Tea)          (Scone)            0.142631            0.034548   \n",
       "\n",
       "     support  confidence      lift  leverage  conviction  \n",
       "36  0.010037    0.201271  1.937977  0.004858    1.121962  \n",
       "39  0.010037    0.096643  1.937977  0.004858    1.051779  \n",
       "31  0.011410    0.109868  1.883874  0.005354    1.057910  \n",
       "30  0.011410    0.195652  1.883874  0.005354    1.114125  \n",
       "47  0.009086    0.063704  1.849557  0.004174    1.031252  \n",
       "46  0.009086    0.263804  1.849557  0.004174    1.164593  \n",
       "45  0.009192    0.106748  1.727135  0.003870    1.050313  \n",
       "44  0.009192    0.148718  1.727135  0.003870    1.073549  \n",
       "50  0.008347    0.241590  1.693816  0.003419    1.130483  \n",
       "51  0.008347    0.058519  1.693816  0.003419    1.025460  "
      ]
     },
     "execution_count": 30,
     "metadata": {},
     "output_type": "execute_result"
    }
   ],
   "source": [
    "rules = association_rules(frequent_itemsets, metric = \"lift\", min_threshold = 1)\n",
    "rules.head(20)\n",
    "rules.sort_values('lift', ascending = False).head(10)"
   ]
  }
 ],
 "metadata": {
  "kernelspec": {
   "display_name": "Python 3 (ipykernel)",
   "language": "python",
   "name": "python3"
  },
  "language_info": {
   "codemirror_mode": {
    "name": "ipython",
    "version": 3
   },
   "file_extension": ".py",
   "mimetype": "text/x-python",
   "name": "python",
   "nbconvert_exporter": "python",
   "pygments_lexer": "ipython3",
   "version": "3.9.12"
  }
 },
 "nbformat": 4,
 "nbformat_minor": 5
}
